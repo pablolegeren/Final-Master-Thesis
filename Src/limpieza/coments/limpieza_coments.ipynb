{
 "cells": [
  {
   "cell_type": "markdown",
   "metadata": {},
   "source": [
    "# **Importacion paquetes**\n",
    "---"
   ]
  },
  {
   "cell_type": "code",
   "execution_count": 1,
   "metadata": {},
   "outputs": [
    {
     "name": "stderr",
     "output_type": "stream",
     "text": [
      "2024-07-04 02:10:19.872272: I tensorflow/core/platform/cpu_feature_guard.cc:210] This TensorFlow binary is optimized to use available CPU instructions in performance-critical operations.\n",
      "To enable the following instructions: AVX2 AVX512F AVX512_VNNI FMA, in other operations, rebuild TensorFlow with the appropriate compiler flags.\n"
     ]
    }
   ],
   "source": [
    "import pandas as pd\n",
    "from sklearn.impute import SimpleImputer\n",
    "from sklearn.preprocessing import OrdinalEncoder\n",
    "import numpy as np\n",
    "import gender_guesser.detector as gender\n",
    "from wordcloud import WordCloud\n",
    "import re\n",
    "import string\n",
    "from nltk.corpus import stopwords\n",
    "from nltk.tokenize import word_tokenize\n",
    "from collections import Counter\n",
    "import nltk\n",
    "from deepface import DeepFace\n",
    "from textblob import TextBlob\n",
    "import torch\n",
    "from transformers import AutoTokenizer, AutoModelForSequenceClassification\n",
    "import seaborn as sns\n",
    "import matplotlib.pyplot as plt\n",
    "from tensorflow.keras.preprocessing.text import Tokenizer\n",
    "from tensorflow.keras.preprocessing.sequence import pad_sequences"
   ]
  },
  {
   "cell_type": "markdown",
   "metadata": {},
   "source": [
    "# **Carga de los datos**\n",
    "---"
   ]
  },
  {
   "cell_type": "code",
   "execution_count": 2,
   "metadata": {},
   "outputs": [],
   "source": [
    "data=pd.read_csv('../../../Dataset_Review/Raw/CommentDataset_v2.csv').iloc[:,1:]"
   ]
  },
  {
   "cell_type": "markdown",
   "metadata": {},
   "source": [
    "# **Extracción del genero**\n",
    "---"
   ]
  },
  {
   "cell_type": "code",
   "execution_count": 3,
   "metadata": {},
   "outputs": [],
   "source": [
    "d = gender.Detector(case_sensitive=False)\n",
    "def solo_un_nombre(name):\n",
    "    partes = name.split()\n",
    "    if len(partes) > 1:\n",
    "        return partes[0]\n",
    "    else:\n",
    "        return name\n",
    "\n",
    "data['first_name'] = data['name'].apply(solo_un_nombre)\n",
    "data['gender'] = data['first_name'].apply(d.get_gender)\n",
    "\n",
    "data.loc[data['name'].str.contains('|'.join(['Javier', 'Jesus', 'Jesús', 'João','Txema'])), 'gender'] = 'male'\n",
    "data.loc[data['name'].str.contains('|'.join(['Glória', 'Mary', 'Rocío', 'Lupe','Carol', 'Luz', 'Mary Paule', 'Leslie','María'])), 'gender'] = 'female'\n",
    "data['gender']=data['gender'].str.replace('mostly_female','female').str.replace('mostly_male','male').str.replace('andy','unknown')"
   ]
  },
  {
   "cell_type": "markdown",
   "metadata": {},
   "source": [
    "# **Extraccion de la valoracion**\n",
    "---"
   ]
  },
  {
   "cell_type": "code",
   "execution_count": 4,
   "metadata": {},
   "outputs": [],
   "source": [
    "def extraer_numeros(texto):\n",
    "    numeros = re.findall(r'\\d+', texto)\n",
    "    if numeros:\n",
    "        return int(numeros[0])\n",
    "    else:\n",
    "        return None\n",
    "\n",
    "data['rating'] = data['valoracion'].apply(extraer_numeros)\n",
    "data.drop('valoracion', axis=1, inplace=True)"
   ]
  },
  {
   "cell_type": "markdown",
   "metadata": {},
   "source": [
    "# **Extracción del sentimiento**\n",
    "---"
   ]
  },
  {
   "cell_type": "code",
   "execution_count": 5,
   "metadata": {},
   "outputs": [],
   "source": [
    "def get_sentiment(text):\n",
    "    analysis = TextBlob(text)\n",
    "    return analysis.sentiment.polarity\n",
    "\n",
    "data['sentimiento'] = data['comentario'].astype(str).apply(get_sentiment)"
   ]
  },
  {
   "cell_type": "markdown",
   "metadata": {},
   "source": [
    "# **Es pregunta**\n",
    "---"
   ]
  },
  {
   "cell_type": "code",
   "execution_count": 6,
   "metadata": {},
   "outputs": [],
   "source": [
    "data['pregunta']=data['comentario'].str.contains('¿?').astype(float)"
   ]
  },
  {
   "cell_type": "markdown",
   "metadata": {},
   "source": [
    "# **Promedio long palabra**\n",
    "---"
   ]
  },
  {
   "cell_type": "code",
   "execution_count": 7,
   "metadata": {},
   "outputs": [],
   "source": [
    "def prom_long(x):\n",
    "    return sum(len(word) for word in TextBlob(x).words) / len(TextBlob(x).words)\n",
    "data['prom_long_word']=data['comentario'].astype(str).apply(lambda x: prom_long(x))"
   ]
  },
  {
   "cell_type": "markdown",
   "metadata": {},
   "source": [
    "# **Numero adjetivos**\n",
    "---"
   ]
  },
  {
   "cell_type": "code",
   "execution_count": 8,
   "metadata": {},
   "outputs": [],
   "source": [
    "def num_adj(x):\n",
    "    return sum(1 for word, tag in zip(TextBlob(x).words,TextBlob(x).tags) if tag[1]=='JJ')\n",
    "data['num_adj'] = data['comentario'].astype(str).apply(num_adj)"
   ]
  },
  {
   "cell_type": "markdown",
   "metadata": {},
   "source": [
    "# **Limpieza del comentario**\n",
    "---"
   ]
  },
  {
   "cell_type": "code",
   "execution_count": 9,
   "metadata": {},
   "outputs": [
    {
     "name": "stderr",
     "output_type": "stream",
     "text": [
      "[nltk_data] Downloading package stopwords to\n",
      "[nltk_data]     /Users/mariolamas/nltk_data...\n",
      "[nltk_data]   Package stopwords is already up-to-date!\n"
     ]
    }
   ],
   "source": [
    "nltk.download('stopwords')\n",
    "stop_words = set(stopwords.words('spanish'))\n",
    "\n",
    "def preprocess_text(text):\n",
    "    text = text.lower()\n",
    "    text = re.sub(r'\\W', ' ', text)\n",
    "    text = re.sub(r'\\d', ' ', text)\n",
    "    text = re.sub(r'\\s+', ' ', text).strip()\n",
    "    return text\n",
    "\n",
    "data['text_clean'] = data['comentario'].astype(str).apply(preprocess_text)\n",
    "data['tokens'] = data['text_clean'].apply(nltk.word_tokenize)\n",
    "data['tokens'] = data['tokens'].apply(lambda x: [word for word in x if word not in stop_words])\n",
    "data['text_clean'] = data['tokens'].apply(lambda x: ' '.join(x))\n",
    "data.drop('comentario',axis=1,inplace=True)"
   ]
  },
  {
   "cell_type": "markdown",
   "metadata": {},
   "source": [
    "# **Problemas**\n",
    "---"
   ]
  },
  {
   "cell_type": "code",
   "execution_count": 10,
   "metadata": {},
   "outputs": [],
   "source": [
    "problemas_comunes = ['ruido', 'limpieza', 'ubicación', 'wifi', 'parking', 'baños']\n",
    "def contar_problemas(text, problemas):\n",
    "    contador = {problema: text.count(problema) for problema in problemas}\n",
    "    return contador\n",
    "\n",
    "data['problemas'] = data['text_clean'].apply(lambda x: contar_problemas(x, problemas_comunes))"
   ]
  },
  {
   "cell_type": "markdown",
   "metadata": {},
   "source": [
    "# **Separación problemas**\n",
    "---"
   ]
  },
  {
   "cell_type": "code",
   "execution_count": 11,
   "metadata": {},
   "outputs": [],
   "source": [
    "data['prob_ruido']=data['problemas'].apply(lambda x: x['ruido'])\n",
    "data['prob_limp']=data['problemas'].apply(lambda x: x['limpieza'])\n",
    "data['prob_ubi']=data['problemas'].apply(lambda x: x['ubicación'])\n",
    "data['prob_wf']=data['problemas'].apply(lambda x: x['wifi'])\n",
    "data['prob_park']=data['problemas'].apply(lambda x: x['parking'])\n",
    "data['prob_bañ']=data['problemas'].apply(lambda x: x['baños'])\n",
    "data.drop('problemas',axis=1,inplace=True)"
   ]
  },
  {
   "cell_type": "markdown",
   "metadata": {},
   "source": [
    "# **Número de tokens**\n",
    "---"
   ]
  },
  {
   "cell_type": "code",
   "execution_count": 12,
   "metadata": {},
   "outputs": [],
   "source": [
    "data['num_toks']=data['tokens'].apply(len)"
   ]
  },
  {
   "cell_type": "markdown",
   "metadata": {},
   "source": [
    "# **antiguedad**\n",
    "---"
   ]
  },
  {
   "cell_type": "code",
   "execution_count": 13,
   "metadata": {},
   "outputs": [],
   "source": [
    "data['ubicacion']=data['ubicacion'].apply(lambda x: np.nan if 'Lleva' not in x else re.findall(r'\\d+',x)[0])"
   ]
  },
  {
   "cell_type": "code",
   "execution_count": 14,
   "metadata": {},
   "outputs": [
    {
     "data": {
      "text/plain": [
       "1854"
      ]
     },
     "execution_count": 14,
     "metadata": {},
     "output_type": "execute_result"
    }
   ],
   "source": [
    "data['ubicacion'].isna().sum()"
   ]
  },
  {
   "cell_type": "markdown",
   "metadata": {},
   "source": [
    "# **LabelEncoder**\n",
    "---"
   ]
  },
  {
   "cell_type": "code",
   "execution_count": 15,
   "metadata": {},
   "outputs": [],
   "source": [
    "cols=['gender']\n",
    "encoder=OrdinalEncoder()\n",
    "data[cols]=encoder.fit_transform(data[cols])"
   ]
  },
  {
   "cell_type": "markdown",
   "metadata": {},
   "source": [
    "# **Rellenamos nulos**\n",
    "---"
   ]
  },
  {
   "cell_type": "code",
   "execution_count": 16,
   "metadata": {},
   "outputs": [],
   "source": [
    "cat_cols=data[[col for col in data.columns if col not in ['tokens','imagen','apart_id','text_clean']]].select_dtypes(include='object').columns\n",
    "num_cols=data[[col for col in data.columns if col not in ['user_id']]].select_dtypes(exclude='object').columns\n",
    "\n",
    "imputer=SimpleImputer(strategy='median')\n",
    "cat_imputer=SimpleImputer(strategy='most_frequent')\n",
    "\n",
    "data[num_cols]=imputer.fit_transform(data[num_cols])\n",
    "data[cat_cols]=cat_imputer.fit_transform(data[cat_cols])"
   ]
  },
  {
   "cell_type": "code",
   "execution_count": 17,
   "metadata": {},
   "outputs": [
    {
     "data": {
      "text/html": [
       "<div>\n",
       "<style scoped>\n",
       "    .dataframe tbody tr th:only-of-type {\n",
       "        vertical-align: middle;\n",
       "    }\n",
       "\n",
       "    .dataframe tbody tr th {\n",
       "        vertical-align: top;\n",
       "    }\n",
       "\n",
       "    .dataframe thead th {\n",
       "        text-align: right;\n",
       "    }\n",
       "</style>\n",
       "<table border=\"1\" class=\"dataframe\">\n",
       "  <thead>\n",
       "    <tr style=\"text-align: right;\">\n",
       "      <th></th>\n",
       "      <th>name</th>\n",
       "      <th>imagen</th>\n",
       "      <th>user_id</th>\n",
       "      <th>apart_id</th>\n",
       "      <th>ubicacion</th>\n",
       "      <th>first_name</th>\n",
       "      <th>gender</th>\n",
       "      <th>rating</th>\n",
       "      <th>sentimiento</th>\n",
       "      <th>pregunta</th>\n",
       "      <th>...</th>\n",
       "      <th>num_adj</th>\n",
       "      <th>text_clean</th>\n",
       "      <th>tokens</th>\n",
       "      <th>prob_ruido</th>\n",
       "      <th>prob_limp</th>\n",
       "      <th>prob_ubi</th>\n",
       "      <th>prob_wf</th>\n",
       "      <th>prob_park</th>\n",
       "      <th>prob_bañ</th>\n",
       "      <th>num_toks</th>\n",
       "    </tr>\n",
       "  </thead>\n",
       "  <tbody>\n",
       "    <tr>\n",
       "      <th>0</th>\n",
       "      <td>Barbara Diaz</td>\n",
       "      <td>https://a0.muscache.com/im/pictures/user/e97d0...</td>\n",
       "      <td>-5345305016665044310</td>\n",
       "      <td>https://www.airbnb.es/rooms/46527977?adults=1&amp;...</td>\n",
       "      <td>6</td>\n",
       "      <td>Barbara</td>\n",
       "      <td>0.0</td>\n",
       "      <td>3.0</td>\n",
       "      <td>0.0</td>\n",
       "      <td>1.0</td>\n",
       "      <td>...</td>\n",
       "      <td>10.0</td>\n",
       "      <td>absolutamente bien lugar camas duras lejos cen...</td>\n",
       "      <td>[absolutamente, bien, lugar, camas, duras, lej...</td>\n",
       "      <td>0.0</td>\n",
       "      <td>1.0</td>\n",
       "      <td>0.0</td>\n",
       "      <td>0.0</td>\n",
       "      <td>0.0</td>\n",
       "      <td>0.0</td>\n",
       "      <td>62.0</td>\n",
       "    </tr>\n",
       "    <tr>\n",
       "      <th>1</th>\n",
       "      <td>Txema</td>\n",
       "      <td>https://a0.muscache.com/im/pictures/user/0c5a3...</td>\n",
       "      <td>7554217637905518485</td>\n",
       "      <td>https://www.airbnb.es/rooms/46527977?adults=1&amp;...</td>\n",
       "      <td>8</td>\n",
       "      <td>Txema</td>\n",
       "      <td>1.0</td>\n",
       "      <td>4.0</td>\n",
       "      <td>0.0</td>\n",
       "      <td>1.0</td>\n",
       "      <td>...</td>\n",
       "      <td>1.0</td>\n",
       "      <td>buenas gestión atención volveré usar casa</td>\n",
       "      <td>[buenas, gestión, atención, volveré, usar, casa]</td>\n",
       "      <td>0.0</td>\n",
       "      <td>0.0</td>\n",
       "      <td>0.0</td>\n",
       "      <td>0.0</td>\n",
       "      <td>0.0</td>\n",
       "      <td>0.0</td>\n",
       "      <td>6.0</td>\n",
       "    </tr>\n",
       "    <tr>\n",
       "      <th>2</th>\n",
       "      <td>Aloe</td>\n",
       "      <td>https://a0.muscache.com/im/pictures/user/4df2c...</td>\n",
       "      <td>2753252670262692822</td>\n",
       "      <td>https://www.airbnb.es/rooms/46527977?adults=1&amp;...</td>\n",
       "      <td>9</td>\n",
       "      <td>Aloe</td>\n",
       "      <td>2.0</td>\n",
       "      <td>1.0</td>\n",
       "      <td>0.0</td>\n",
       "      <td>1.0</td>\n",
       "      <td>...</td>\n",
       "      <td>7.0</td>\n",
       "      <td>empezar mundos corre cobren euros tener wifi p...</td>\n",
       "      <td>[empezar, mundos, corre, cobren, euros, tener,...</td>\n",
       "      <td>0.0</td>\n",
       "      <td>0.0</td>\n",
       "      <td>0.0</td>\n",
       "      <td>1.0</td>\n",
       "      <td>0.0</td>\n",
       "      <td>0.0</td>\n",
       "      <td>35.0</td>\n",
       "    </tr>\n",
       "    <tr>\n",
       "      <th>3</th>\n",
       "      <td>Nichola</td>\n",
       "      <td>https://a0.muscache.com/im/pictures/user/b8437...</td>\n",
       "      <td>5933799744255950932</td>\n",
       "      <td>https://www.airbnb.es/rooms/46527977?adults=1&amp;...</td>\n",
       "      <td>6</td>\n",
       "      <td>Nichola</td>\n",
       "      <td>0.0</td>\n",
       "      <td>5.0</td>\n",
       "      <td>0.0</td>\n",
       "      <td>1.0</td>\n",
       "      <td>...</td>\n",
       "      <td>8.0</td>\n",
       "      <td>situado mejor zona benidorm vistas hermosa pla...</td>\n",
       "      <td>[situado, mejor, zona, benidorm, vistas, hermo...</td>\n",
       "      <td>0.0</td>\n",
       "      <td>0.0</td>\n",
       "      <td>0.0</td>\n",
       "      <td>0.0</td>\n",
       "      <td>0.0</td>\n",
       "      <td>0.0</td>\n",
       "      <td>28.0</td>\n",
       "    </tr>\n",
       "    <tr>\n",
       "      <th>4</th>\n",
       "      <td>Elena</td>\n",
       "      <td>https://a0.muscache.com/im/pictures/user/b8f5e...</td>\n",
       "      <td>3658483447196535546</td>\n",
       "      <td>https://www.airbnb.es/rooms/46527977?adults=1&amp;...</td>\n",
       "      <td>6</td>\n",
       "      <td>Elena</td>\n",
       "      <td>0.0</td>\n",
       "      <td>5.0</td>\n",
       "      <td>0.0</td>\n",
       "      <td>1.0</td>\n",
       "      <td>...</td>\n",
       "      <td>2.0</td>\n",
       "      <td>pasamos estancia agradable gustado</td>\n",
       "      <td>[pasamos, estancia, agradable, gustado]</td>\n",
       "      <td>0.0</td>\n",
       "      <td>0.0</td>\n",
       "      <td>0.0</td>\n",
       "      <td>0.0</td>\n",
       "      <td>0.0</td>\n",
       "      <td>0.0</td>\n",
       "      <td>4.0</td>\n",
       "    </tr>\n",
       "  </tbody>\n",
       "</table>\n",
       "<p>5 rows × 21 columns</p>\n",
       "</div>"
      ],
      "text/plain": [
       "           name                                             imagen  \\\n",
       "0  Barbara Diaz  https://a0.muscache.com/im/pictures/user/e97d0...   \n",
       "1         Txema  https://a0.muscache.com/im/pictures/user/0c5a3...   \n",
       "2          Aloe  https://a0.muscache.com/im/pictures/user/4df2c...   \n",
       "3       Nichola  https://a0.muscache.com/im/pictures/user/b8437...   \n",
       "4         Elena  https://a0.muscache.com/im/pictures/user/b8f5e...   \n",
       "\n",
       "               user_id                                           apart_id  \\\n",
       "0 -5345305016665044310  https://www.airbnb.es/rooms/46527977?adults=1&...   \n",
       "1  7554217637905518485  https://www.airbnb.es/rooms/46527977?adults=1&...   \n",
       "2  2753252670262692822  https://www.airbnb.es/rooms/46527977?adults=1&...   \n",
       "3  5933799744255950932  https://www.airbnb.es/rooms/46527977?adults=1&...   \n",
       "4  3658483447196535546  https://www.airbnb.es/rooms/46527977?adults=1&...   \n",
       "\n",
       "  ubicacion first_name  gender  rating  sentimiento  pregunta  ...  num_adj  \\\n",
       "0         6    Barbara     0.0     3.0          0.0       1.0  ...     10.0   \n",
       "1         8      Txema     1.0     4.0          0.0       1.0  ...      1.0   \n",
       "2         9       Aloe     2.0     1.0          0.0       1.0  ...      7.0   \n",
       "3         6    Nichola     0.0     5.0          0.0       1.0  ...      8.0   \n",
       "4         6      Elena     0.0     5.0          0.0       1.0  ...      2.0   \n",
       "\n",
       "                                          text_clean  \\\n",
       "0  absolutamente bien lugar camas duras lejos cen...   \n",
       "1          buenas gestión atención volveré usar casa   \n",
       "2  empezar mundos corre cobren euros tener wifi p...   \n",
       "3  situado mejor zona benidorm vistas hermosa pla...   \n",
       "4                 pasamos estancia agradable gustado   \n",
       "\n",
       "                                              tokens prob_ruido  prob_limp  \\\n",
       "0  [absolutamente, bien, lugar, camas, duras, lej...        0.0        1.0   \n",
       "1   [buenas, gestión, atención, volveré, usar, casa]        0.0        0.0   \n",
       "2  [empezar, mundos, corre, cobren, euros, tener,...        0.0        0.0   \n",
       "3  [situado, mejor, zona, benidorm, vistas, hermo...        0.0        0.0   \n",
       "4            [pasamos, estancia, agradable, gustado]        0.0        0.0   \n",
       "\n",
       "   prob_ubi  prob_wf  prob_park  prob_bañ  num_toks  \n",
       "0       0.0      0.0        0.0       0.0      62.0  \n",
       "1       0.0      0.0        0.0       0.0       6.0  \n",
       "2       0.0      1.0        0.0       0.0      35.0  \n",
       "3       0.0      0.0        0.0       0.0      28.0  \n",
       "4       0.0      0.0        0.0       0.0       4.0  \n",
       "\n",
       "[5 rows x 21 columns]"
      ]
     },
     "execution_count": 17,
     "metadata": {},
     "output_type": "execute_result"
    }
   ],
   "source": [
    "data.head()"
   ]
  },
  {
   "cell_type": "markdown",
   "metadata": {},
   "source": [
    "# **Guardamos el dataset limpio**\n",
    "---"
   ]
  },
  {
   "cell_type": "code",
   "execution_count": 18,
   "metadata": {},
   "outputs": [],
   "source": [
    "data.to_csv('Dataset_Review_cleaned_v1.csv',index=False)"
   ]
  },
  {
   "cell_type": "markdown",
   "metadata": {},
   "source": []
  }
 ],
 "metadata": {
  "kernelspec": {
   "display_name": "socialnetwork",
   "language": "python",
   "name": "python3"
  },
  "language_info": {
   "codemirror_mode": {
    "name": "ipython",
    "version": 3
   },
   "file_extension": ".py",
   "mimetype": "text/x-python",
   "name": "python",
   "nbconvert_exporter": "python",
   "pygments_lexer": "ipython3",
   "version": "3.12.4"
  }
 },
 "nbformat": 4,
 "nbformat_minor": 2
}
