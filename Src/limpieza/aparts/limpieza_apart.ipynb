{
 "cells": [
  {
   "cell_type": "markdown",
   "metadata": {},
   "source": [
    "# **Importación de paquetes**\n",
    "---"
   ]
  },
  {
   "cell_type": "code",
   "execution_count": 43,
   "metadata": {},
   "outputs": [],
   "source": [
    "import pandas as pd\n",
    "from sklearn.impute import SimpleImputer\n",
    "import numpy as np\n",
    "from sklearn.preprocessing import OrdinalEncoder"
   ]
  },
  {
   "cell_type": "markdown",
   "metadata": {},
   "source": [
    "# **Carga de los datos**\n",
    "---"
   ]
  },
  {
   "cell_type": "code",
   "execution_count": 44,
   "metadata": {},
   "outputs": [],
   "source": [
    "ruta_dataset='../../Dataset_Apart/Raw/DatasetAirbnb_v1.csv'\n",
    "data=pd.read_csv(ruta_dataset)"
   ]
  },
  {
   "cell_type": "markdown",
   "metadata": {},
   "source": [
    "# **Extracción de los datos de Informacion y Limpieza evaluaciones**\n",
    "---"
   ]
  },
  {
   "cell_type": "code",
   "execution_count": 45,
   "metadata": {},
   "outputs": [],
   "source": [
    "import re\n",
    "patt=r'([0-9]+\\xa0viajeros)'\n",
    "patt_hue=r'([0-9]+\\xa0huéspedes)'\n",
    "patt_camas=r'([0-9]+\\scama[s]?)'\n",
    "patt_ban=r'([0-9]+\\sbaño[s]?)'\n",
    "patt_drom=r'([0-9]+\\sdormitorio[s]?)'\n",
    "\n",
    "#Procesamiento del dataframe\n",
    "#-----\n",
    "data['Evaluaciones']=data['Evaluaciones'].str.replace(' evaluaciones','').str.replace('\\xa0evaluaciones','').astype(float)\n",
    "data['Precio']=data['Precio'].str.replace('€','').astype(float)\n",
    "data['Limpieza']=data['Limpieza'].str.replace('Limpieza','').str.replace(',','.').astype(float)\n",
    "data['Veracidad']=data['Veracidad'].str.replace('Veracidad','').str.replace(',','.').astype(float)\n",
    "data['Llegada']=data['Llegada'].str.replace('Llegada','').str.replace(',','.').astype(float)\n",
    "data['Comunicacion']=data['Comunicacion'].str.replace('Comunicación','').str.replace(',','.').astype(float)\n",
    "data['Ubicacion']=data['Ubicacion'].str.replace('Ubicación','').str.replace(',','.').astype(float)\n",
    "data['Calidad']=data['Calidad'].str.replace('Calidad','').str.replace(',','.').astype(float)\n",
    "\n",
    "data['Capacidad']=data['Informacion'].apply(lambda x:re.findall(patt,x)[0] if len(re.findall(patt,x))>0 else re.findall(patt_hue,x)[0] if len(re.findall(patt_hue,x))>0 else np.nan)\n",
    "data['Capacidad']=data['Capacidad'].str.replace('\\xa0viajeros','').str.replace('\\xa0huéspedes','').astype(float)\n",
    "data['Camas']=data['Informacion'].apply(lambda x: re.findall(patt_camas,x)[0] if len(re.findall(patt_camas,x)) else np.nan)\n",
    "data['Camas']=data['Camas'].str.replace(' camas','').str.replace(' cama','').astype(float)\n",
    "data['Baños']=data['Informacion'].apply(lambda x: re.findall(patt_ban,x)[0] if len(re.findall(patt_ban,x)) else np.nan)\n",
    "data['Baños']=data['Baños'].str.replace(' baños','').str.replace(' baño','').str.replace('\\xa0baños','').astype(float)\n",
    "data['Dormitorios']=data['Informacion'].apply(lambda x: re.findall(patt_drom,x)[0] if len(re.findall(patt_drom,x)) else np.nan)\n",
    "data['Dormitorios']=data['Dormitorios'].str.replace(' dormitorios','').str.replace(' dormitorio','').astype(float)\n",
    "data['Baño Compartido']=data['Informacion'].apply(lambda x: 1 if x.find('Baño compartido')!=-1 else 0)\n",
    "\n",
    "#Eliminamos la columna información\n",
    "data.drop('Informacion',axis=1,inplace=True)"
   ]
  },
  {
   "cell_type": "markdown",
   "metadata": {},
   "source": [
    "# **Extracción de latitud y longitud**\n",
    "---"
   ]
  },
  {
   "cell_type": "code",
   "execution_count": 46,
   "metadata": {},
   "outputs": [],
   "source": [
    "from geopy.geocoders import Nominatim\n",
    "\n",
    "def lat_log(l):\n",
    "    geolocator = Nominatim(user_agent=\"España\")\n",
    "    try:\n",
    "        location = geolocator.geocode(l)\n",
    "        latitude = location.latitude\n",
    "        longitude = location.longitude\n",
    "        return latitude, longitude\n",
    "    except:\n",
    "        return np.nan,np.nan\n",
    "data['Latitud_Longitud']=data['Localizacion'].apply(lambda x: lat_log(x))\n",
    "data['Latitud']=data['Latitud_Longitud'].apply(lambda x: x[0])\n",
    "data['Longitud']=data['Latitud_Longitud'].apply(lambda x: x[1])\n",
    "data.drop('Latitud_Longitud',axis=1,inplace=True)"
   ]
  },
  {
   "cell_type": "markdown",
   "metadata": {},
   "source": [
    "# **Extracción del País de localización**\n",
    "---"
   ]
  },
  {
   "cell_type": "code",
   "execution_count": 47,
   "metadata": {},
   "outputs": [],
   "source": [
    "def ubi(x):\n",
    "    try:\n",
    "        dic={}\n",
    "        e=x.find('España') if x.find('España')!=-1 else 1e10\n",
    "        p=x.find('Portugal') if x.find('Portugal')!=-1 else 1e10\n",
    "        f=x.find('Francia') if x.find('Francia')!=-1 else 1e10\n",
    "        dic[e]='España'\n",
    "        dic[p]='Portugal'\n",
    "        dic[f]='Francia'\n",
    "        if e==p==f:\n",
    "            return np.nan\n",
    "        else:\n",
    "            minimo=min(e,p,f)\n",
    "            return x.split(dic[minimo])[0] + dic[minimo]\n",
    "    except:\n",
    "        return np.nan\n",
    "\n",
    "data['Pais']=data['Localizacion'].apply(lambda x: str(x).split(',')[-1].replace(' ',''))\n",
    "data['Pais']=data['Pais'].apply(lambda x: x if x in ['España','Portugal','Francia'] else np.nan)\n",
    "data.drop('Localizacion',axis=1,inplace=True)"
   ]
  },
  {
   "cell_type": "markdown",
   "metadata": {},
   "source": [
    "# **Extracción de los servicios**\n",
    "---"
   ]
  },
  {
   "cell_type": "code",
   "execution_count": 48,
   "metadata": {},
   "outputs": [],
   "source": [
    "data['Wifi']=data['Servicios'].str.contains('Wifi').astype(str)\n",
    "data['Mascotas']=data['Servicios'].str.contains('Admite mascotas').astype(str)\n",
    "data['Piscina']=data['Servicios'].str.contains('Piscina').astype(str)\n",
    "data['Parking']=data['Servicios'].str.contains('Aparcamiento gratuito').astype(str)\n",
    "data.drop('Servicios',axis=1,inplace=True)"
   ]
  },
  {
   "cell_type": "markdown",
   "metadata": {},
   "source": [
    "# **Eliminación de camas y dormitorios**\n",
    "---\n",
    "Elevada correlación con capacidad."
   ]
  },
  {
   "cell_type": "code",
   "execution_count": 49,
   "metadata": {},
   "outputs": [],
   "source": [
    "data.drop(['Camas','Dormitorios'],axis=1,inplace=True)"
   ]
  },
  {
   "cell_type": "markdown",
   "metadata": {},
   "source": [
    "# **Imputación de nulos categóricos por la más frecuente**\n",
    "---"
   ]
  },
  {
   "cell_type": "code",
   "execution_count": 50,
   "metadata": {},
   "outputs": [],
   "source": [
    "cat_cols_aplican=data[[col for col in data.columns if col not in ['Titulo','Descripcion Simple','URL']]].select_dtypes(include='object').columns\n",
    "cat_imputer=SimpleImputer(strategy='most_frequent')\n",
    "data[cat_cols_aplican]=cat_imputer.fit_transform(data[cat_cols_aplican])"
   ]
  },
  {
   "cell_type": "markdown",
   "metadata": {},
   "source": [
    "# **Imputación de nulos por la mediana**\n",
    "---"
   ]
  },
  {
   "cell_type": "code",
   "execution_count": 51,
   "metadata": {},
   "outputs": [],
   "source": [
    "num_cols_aplican=data.select_dtypes(exclude='object').columns\n",
    "num_imputer=SimpleImputer(strategy='median')\n",
    "data[num_cols_aplican]=num_imputer.fit_transform(data[num_cols_aplican])"
   ]
  },
  {
   "cell_type": "markdown",
   "metadata": {},
   "source": [
    "# **Precio por persona por noche**\n",
    "---"
   ]
  },
  {
   "cell_type": "code",
   "execution_count": 52,
   "metadata": {},
   "outputs": [],
   "source": [
    "data['Precio_por_persona']=data['Precio']/data['Capacidad']"
   ]
  },
  {
   "cell_type": "markdown",
   "metadata": {},
   "source": [
    "# **Transformación logarítmica del precio**\n",
    "---"
   ]
  },
  {
   "cell_type": "code",
   "execution_count": 53,
   "metadata": {},
   "outputs": [],
   "source": [
    "data['Precio']=np.log(data['Precio'])"
   ]
  },
  {
   "cell_type": "markdown",
   "metadata": {},
   "source": [
    "# **Cálculo de Rating**\n",
    "---"
   ]
  },
  {
   "cell_type": "code",
   "execution_count": 54,
   "metadata": {},
   "outputs": [],
   "source": [
    "data['Rating']=data[['Limpieza','Veracidad','Llegada','Comunicacion','Ubicacion','Calidad']].mean(axis=1)"
   ]
  },
  {
   "cell_type": "markdown",
   "metadata": {},
   "source": [
    "# **Conversión tipos**\n",
    "---"
   ]
  },
  {
   "cell_type": "code",
   "execution_count": 58,
   "metadata": {},
   "outputs": [],
   "source": [
    "#Servicios\n",
    "data['Wifi']=data['Wifi'].astype(bool).astype(float)\n",
    "data['Mascotas']=data['Mascotas'].astype(bool).astype(float)\n",
    "data['Piscina']=data['Piscina'].astype(bool).astype(float)\n",
    "data['Parking']=data['Parking'].astype(bool).astype(float)\n",
    "\n",
    "#Label Encoder\n",
    "encoder=OrdinalEncoder()\n",
    "cols=['Pais','Tipo',]\n",
    "data[cols]=encoder.fit_transform(data[cols])"
   ]
  },
  {
   "cell_type": "markdown",
   "metadata": {},
   "source": [
    "# **Guardado del dataset Limpio**\n",
    "---"
   ]
  },
  {
   "cell_type": "code",
   "execution_count": 61,
   "metadata": {},
   "outputs": [],
   "source": [
    "data.to_csv(f'DatasetAirbnb_Cleaned_v1.csv',index=False)"
   ]
  },
  {
   "cell_type": "markdown",
   "metadata": {},
   "source": [
    "Ya podemos hacer la selección de variables."
   ]
  },
  {
   "cell_type": "code",
   "execution_count": null,
   "metadata": {},
   "outputs": [],
   "source": []
  }
 ],
 "metadata": {
  "kernelspec": {
   "display_name": "socialnetwork",
   "language": "python",
   "name": "python3"
  },
  "language_info": {
   "codemirror_mode": {
    "name": "ipython",
    "version": 3
   },
   "file_extension": ".py",
   "mimetype": "text/x-python",
   "name": "python",
   "nbconvert_exporter": "python",
   "pygments_lexer": "ipython3",
   "version": "3.12.4"
  }
 },
 "nbformat": 4,
 "nbformat_minor": 2
}
