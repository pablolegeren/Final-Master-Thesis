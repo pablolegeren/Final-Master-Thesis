{
 "cells": [
  {
   "cell_type": "code",
   "execution_count": 2,
   "metadata": {},
   "outputs": [],
   "source": [
    "import undetected_chromedriver as uc\n",
    "from selenium.webdriver.common.by import By\n",
    "from bs4 import BeautifulSoup\n",
    "import pandas as pd\n",
    "import time\n",
    "from selenium.webdriver.support.ui import WebDriverWait\n",
    "from selenium.webdriver.support import expected_conditions as ec\n",
    "from selenium.webdriver.common.action_chains import ActionChains\n",
    "from selenium.webdriver.common.keys import Keys\n",
    "import re"
   ]
  },
  {
   "cell_type": "code",
   "execution_count": 3,
   "metadata": {},
   "outputs": [],
   "source": [
    "#Funcion para arrancar el webdriver\n",
    "def iniciar_wd(headless=False):\n",
    "    options=uc.ChromeOptions()\n",
    "    options.add_argument('--password-store=basic')\n",
    "    options.add_experimental_option(\n",
    "        'prefs',\n",
    "        {'credentials_enable_service':False,\n",
    "         'profile.password_manager_enabled':False}\n",
    "    )\n",
    "    if headless:\n",
    "        options.add_argument('--headless')\n",
    "\n",
    "    #Iniciamos el driver\n",
    "    driver=uc.Chrome(options=options,headless=headless,log_level=3)\n",
    "    driver.maximize_window()\n",
    "    \n",
    "    return driver"
   ]
  },
  {
   "cell_type": "code",
   "execution_count": 4,
   "metadata": {},
   "outputs": [],
   "source": [
    "def ext_info(driver,url):\n",
    "    driver.get(url)\n",
    "    time.sleep(3)\n",
    "    tit=desc_s=info=evaluaciones=precio=limp=vera=lleg=com=ub=cal=serv=local=''\n",
    "    \n",
    "    html=driver.page_source\n",
    "    soup=BeautifulSoup(html, 'html.parser')\n",
    "    try:\n",
    "        tit=soup.find('h1').text\n",
    "    except:\n",
    "        print('ERROR al obtener el Titulo')\n",
    "    \n",
    "    try:\n",
    "        desc_s=soup.find('h2').text\n",
    "    except:\n",
    "        print('Error al obtener la descripcion')\n",
    "    \n",
    "    try:\n",
    "        info=soup.find('ol').text\n",
    "    except:\n",
    "        print('Error al obtener la informacion')\n",
    "\n",
    "    try:\n",
    "        ev=soup.find_all('span')\n",
    "        pattern_eval=r'^[0-9]+\\s(evaluaciones)$'\n",
    "        pattern_price=r'[0-9]+\\s(€)\\s$'\n",
    "        evalu=price=0\n",
    "        for e in ev:\n",
    "            if len(re.findall(pattern_eval,e.text))>0 and evalu==0:\n",
    "                evaluaciones=e.text\n",
    "                evalu+=1\n",
    "                \n",
    "            if len(re.findall(pattern_price,e.text))>0 and price==0:\n",
    "                precio=e.text\n",
    "                price+=1\n",
    "\n",
    "            if price==1 and evalu==1:\n",
    "                break\n",
    "        \n",
    "        divs=soup.find_all('div')\n",
    "        pat_limp=r'^(Limpieza)[0-9],[0-9]$'\n",
    "        pat_ver=r'^(Veracidad)[0-9],[0-9]$'\n",
    "        pat_lleg=r'^(Llegada)[0-9],[0-9]$'\n",
    "        pat_com=r'^(Comunicación)[0-9],[0-9]$'\n",
    "        pat_ub=r'^(Ubicación)[0-9],[0-9]$'\n",
    "        pat_cal=r'^(Calidad)[0-9],[0-9]$'\n",
    "\n",
    "        for d in divs:\n",
    "            if len(re.findall(pat_limp,d.text))>0:\n",
    "                limp=d.text\n",
    "            \n",
    "            elif len(re.findall(pat_ver,d.text))>0:\n",
    "                vera=d.text\n",
    "            elif len(re.findall(pat_lleg,d.text))>0:\n",
    "                lleg=d.text\n",
    "            elif len(re.findall(pat_com,d.text))>0:\n",
    "                com=d.text\n",
    "            elif len(re.findall(pat_ub,d.text))>0:\n",
    "                ub=d.text\n",
    "            elif len(re.findall(pat_cal,d.text))>0:\n",
    "                cal=d.text\n",
    "            else:\n",
    "                pass\n",
    "\n",
    "    except:\n",
    "        print('No tiene evaluaciones')\n",
    "    \n",
    "    sps=soup.find_all('section')\n",
    "\n",
    "    se=lo=0\n",
    "    for s in sps:\n",
    "        if s.text.find('¿Qué hay en este alojamiento?')!=-1 and se==0:\n",
    "            serv=s.text[len('¿Qué hay en este alojamiento?'):]\n",
    "            se+=1\n",
    "        \n",
    "        if s.text.find('¿Dónde me voy a quedar?')!=-1 and lo==0:\n",
    "            local=s.text[len('¿Dónde me voy a quedar?'):]\n",
    "            lo+=1\n",
    "\n",
    "        if se==1 and lo==1:\n",
    "            break\n",
    "        \n",
    "    return tit,desc_s,info,evaluaciones,precio,limp,vera,lleg,com,ub,cal,serv,local\n",
    "    "
   ]
  },
  {
   "cell_type": "code",
   "execution_count": 9,
   "metadata": {},
   "outputs": [
    {
     "ename": "KeyboardInterrupt",
     "evalue": "",
     "output_type": "error",
     "traceback": [
      "\u001b[0;31m---------------------------------------------------------------------------\u001b[0m",
      "\u001b[0;31mKeyboardInterrupt\u001b[0m                         Traceback (most recent call last)",
      "Cell \u001b[0;32mIn[9], line 15\u001b[0m\n\u001b[1;32m     12\u001b[0m \u001b[38;5;28;01mfor\u001b[39;00m k \u001b[38;5;129;01min\u001b[39;00m data\u001b[38;5;241m.\u001b[39mkeys():\n\u001b[1;32m     13\u001b[0m     \u001b[38;5;28;01mfor\u001b[39;00m url \u001b[38;5;129;01min\u001b[39;00m data[k]:\n\u001b[0;32m---> 15\u001b[0m         a,b,c,d,f,g,h,i,j,l,m,n,o\u001b[38;5;241m=\u001b[39m\u001b[43mext_info\u001b[49m\u001b[43m(\u001b[49m\u001b[43mdriver\u001b[49m\u001b[43m,\u001b[49m\u001b[43murl\u001b[49m\u001b[43m)\u001b[49m\n\u001b[1;32m     16\u001b[0m         nuevo_id \u001b[38;5;241m=\u001b[39m \u001b[38;5;28mhash\u001b[39m(url)\n\u001b[1;32m     17\u001b[0m         nuevos_datos \u001b[38;5;241m=\u001b[39m [nuevo_id, a, b, c, d, k, f, url, g, h, i, j, l, m, n, o]\n",
      "Cell \u001b[0;32mIn[4], line 3\u001b[0m, in \u001b[0;36mext_info\u001b[0;34m(driver, url)\u001b[0m\n\u001b[1;32m      1\u001b[0m \u001b[38;5;28;01mdef\u001b[39;00m \u001b[38;5;21mext_info\u001b[39m(driver,url):\n\u001b[1;32m      2\u001b[0m     driver\u001b[38;5;241m.\u001b[39mget(url)\n\u001b[0;32m----> 3\u001b[0m     time\u001b[38;5;241m.\u001b[39msleep(\u001b[38;5;241m3\u001b[39m)\n\u001b[1;32m      4\u001b[0m     tit\u001b[38;5;241m=\u001b[39mdesc_s\u001b[38;5;241m=\u001b[39minfo\u001b[38;5;241m=\u001b[39mevaluaciones\u001b[38;5;241m=\u001b[39mprecio\u001b[38;5;241m=\u001b[39mlimp\u001b[38;5;241m=\u001b[39mvera\u001b[38;5;241m=\u001b[39mlleg\u001b[38;5;241m=\u001b[39mcom\u001b[38;5;241m=\u001b[39mub\u001b[38;5;241m=\u001b[39mcal\u001b[38;5;241m=\u001b[39mserv\u001b[38;5;241m=\u001b[39mlocal\u001b[38;5;241m=\u001b[39m\u001b[38;5;124m'\u001b[39m\u001b[38;5;124m'\u001b[39m\n\u001b[1;32m      6\u001b[0m     html\u001b[38;5;241m=\u001b[39mdriver\u001b[38;5;241m.\u001b[39mpage_source\n",
      "\u001b[0;31mKeyboardInterrupt\u001b[0m: "
     ]
    }
   ],
   "source": [
    "import json\n",
    "\n",
    "with open('urls.json','r') as jsonfile:\n",
    "    data=json.load(jsonfile)\n",
    "\n",
    "driver=iniciar_wd(headless=True)\n",
    "claves = [\"ids\", \"titulos\", \"desc_sen\", \"informacion\", \"eval\", \"tipo\", \"precios\", \"enlaces\", \n",
    "          \"limpieza\", \"veracidad\", \"llegada\", \"comunicacion\", \"ubicacion\", \"calidad\", \n",
    "          \"servicios\", \"localizacion\"]\n",
    "datos = {clave:[] for clave in claves}\n",
    "\n",
    "for k in data.keys():\n",
    "    for url in data[k]:\n",
    "        \n",
    "        a,b,c,d,f,g,h,i,j,l,m,n,o=ext_info(driver,url)\n",
    "        nuevo_id = hash(url)\n",
    "        nuevos_datos = [nuevo_id, a, b, c, d, k, f, url, g, h, i, j, l, m, n, o]\n",
    "\n",
    "        for clave, dato in zip(claves, nuevos_datos):\n",
    "            datos[clave].append(dato)\n",
    "\n",
    "driver.close()"
   ]
  },
  {
   "cell_type": "code",
   "execution_count": 10,
   "metadata": {},
   "outputs": [
    {
     "data": {
      "text/plain": [
       "(12, 16)"
      ]
     },
     "execution_count": 10,
     "metadata": {},
     "output_type": "execute_result"
    }
   ],
   "source": [
    "result=pd.DataFrame(datos,columns=claves)\n",
    "result.shape"
   ]
  },
  {
   "cell_type": "code",
   "execution_count": null,
   "metadata": {},
   "outputs": [],
   "source": [
    "result.to_csv('DatasetAirbnb.csv',index=False)"
   ]
  }
 ],
 "metadata": {
  "kernelspec": {
   "display_name": "pruebp11",
   "language": "python",
   "name": "python3"
  },
  "language_info": {
   "codemirror_mode": {
    "name": "ipython",
    "version": 3
   },
   "file_extension": ".py",
   "mimetype": "text/x-python",
   "name": "python",
   "nbconvert_exporter": "python",
   "pygments_lexer": "ipython3",
   "version": "3.11.0"
  }
 },
 "nbformat": 4,
 "nbformat_minor": 2
}
