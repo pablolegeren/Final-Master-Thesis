{
 "cells": [
  {
   "cell_type": "code",
   "execution_count": 2,
   "metadata": {},
   "outputs": [],
   "source": [
    "import undetected_chromedriver as uc\n",
    "from selenium.webdriver.common.by import By\n",
    "from bs4 import BeautifulSoup\n",
    "import pandas as pd\n",
    "import time\n",
    "from selenium.webdriver.support.ui import WebDriverWait\n",
    "from selenium.webdriver.support import expected_conditions as ec\n",
    "from selenium.webdriver.common.action_chains import ActionChains\n",
    "from selenium.webdriver.common.keys import Keys"
   ]
  },
  {
   "cell_type": "code",
   "execution_count": 3,
   "metadata": {},
   "outputs": [],
   "source": [
    "#Funcion para arrancar el webdriver\n",
    "def iniciar_wd(headless=False):\n",
    "    options=uc.ChromeOptions()\n",
    "    options.add_argument('--password-store=basic')\n",
    "    options.add_experimental_option(\n",
    "        'prefs',\n",
    "        {'credentials_enable_service':False,\n",
    "         'profile.password_manager_enabled':False}\n",
    "    )\n",
    "    if headless:\n",
    "        options.add_argument('--headless')\n",
    "\n",
    "    #Iniciamos el driver\n",
    "    driver=uc.Chrome(options=options,headless=headless,log_level=3)\n",
    "    driver.maximize_window()\n",
    "    \n",
    "    return driver"
   ]
  },
  {
   "cell_type": "code",
   "execution_count": 4,
   "metadata": {},
   "outputs": [],
   "source": [
    "driver=iniciar_wd()\n",
    "driver.get('https://www.airbnb.es/rooms/667001117636139655?adults=1&category_tag=Tag%3A789&children=0&enable_m3_private_room=true&infants=0&pets=0&photo_id=1469471240&search_mode=flex_destinations_search&check_in=2024-03-20&check_out=2024-03-25&source_impression_id=p3_1710778550_eiCeGei%2BO6ets2%2F6&previous_page_section_name=1000')\n",
    "\n",
    "time.sleep(15)  #Espera mientras clicamos por primera vez el boton de mostrar mas"
   ]
  },
  {
   "cell_type": "code",
   "execution_count": 5,
   "metadata": {},
   "outputs": [
    {
     "ename": "NoSuchWindowException",
     "evalue": "Message: no such window: target window already closed\nfrom unknown error: web view not found\n  (Session info: chrome=123.0.6312.58)\nStacktrace:\n0   undetected_chromedriver             0x00000001057fe0f8 undetected_chromedriver + 4595960\n1   undetected_chromedriver             0x00000001057f5e63 undetected_chromedriver + 4562531\n2   undetected_chromedriver             0x00000001053f939a undetected_chromedriver + 381850\n3   undetected_chromedriver             0x00000001053d217d undetected_chromedriver + 221565\n4   undetected_chromedriver             0x000000010546ce4d undetected_chromedriver + 855629\n5   undetected_chromedriver             0x0000000105484858 undetected_chromedriver + 952408\n6   undetected_chromedriver             0x0000000105464ee3 undetected_chromedriver + 823011\n7   undetected_chromedriver             0x0000000105435be4 undetected_chromedriver + 629732\n8   undetected_chromedriver             0x000000010543679e undetected_chromedriver + 632734\n9   undetected_chromedriver             0x00000001057c4012 undetected_chromedriver + 4358162\n10  undetected_chromedriver             0x00000001057c8c5d undetected_chromedriver + 4377693\n11  undetected_chromedriver             0x00000001057c85d3 undetected_chromedriver + 4376019\n12  undetected_chromedriver             0x00000001057c8f05 undetected_chromedriver + 4378373\n13  undetected_chromedriver             0x00000001057ada35 undetected_chromedriver + 4266549\n14  undetected_chromedriver             0x00000001057c928d undetected_chromedriver + 4379277\n15  undetected_chromedriver             0x00000001057a0080 undetected_chromedriver + 4210816\n16  undetected_chromedriver             0x00000001057e6ac8 undetected_chromedriver + 4500168\n17  undetected_chromedriver             0x00000001057e6c41 undetected_chromedriver + 4500545\n18  undetected_chromedriver             0x00000001057f5aa3 undetected_chromedriver + 4561571\n19  libsystem_pthread.dylib             0x00007ff801332202 _pthread_start + 99\n20  libsystem_pthread.dylib             0x00007ff80132dbab thread_start + 15\n",
     "output_type": "error",
     "traceback": [
      "\u001b[0;31m---------------------------------------------------------------------------\u001b[0m",
      "\u001b[0;31mNoSuchWindowException\u001b[0m                     Traceback (most recent call last)",
      "Cell \u001b[0;32mIn[5], line 1\u001b[0m\n\u001b[0;32m----> 1\u001b[0m html\u001b[38;5;241m=\u001b[39m\u001b[43mdriver\u001b[49m\u001b[38;5;241;43m.\u001b[39;49m\u001b[43mpage_source\u001b[49m\n\u001b[1;32m      2\u001b[0m soup\u001b[38;5;241m=\u001b[39mBeautifulSoup(html, \u001b[38;5;124m'\u001b[39m\u001b[38;5;124mhtml.parser\u001b[39m\u001b[38;5;124m'\u001b[39m)\n\u001b[1;32m      5\u001b[0m \u001b[38;5;66;03m#Coger el titulo del apartamento\u001b[39;00m\n",
      "File \u001b[0;32m~/anaconda3/envs/entorno_prueba/lib/python3.11/site-packages/undetected_chromedriver/__init__.py:806\u001b[0m, in \u001b[0;36mChrome.__getattribute__\u001b[0;34m(self, item)\u001b[0m\n\u001b[1;32m    804\u001b[0m \u001b[38;5;28;01mdef\u001b[39;00m \u001b[38;5;21m__getattribute__\u001b[39m(\u001b[38;5;28mself\u001b[39m, item):\n\u001b[1;32m    805\u001b[0m     \u001b[38;5;28;01mif\u001b[39;00m \u001b[38;5;129;01mnot\u001b[39;00m \u001b[38;5;28msuper\u001b[39m()\u001b[38;5;241m.\u001b[39m\u001b[38;5;21m__getattribute__\u001b[39m(\u001b[38;5;124m\"\u001b[39m\u001b[38;5;124mdebug\u001b[39m\u001b[38;5;124m\"\u001b[39m):\n\u001b[0;32m--> 806\u001b[0m         \u001b[38;5;28;01mreturn\u001b[39;00m \u001b[38;5;28;43msuper\u001b[39;49m\u001b[43m(\u001b[49m\u001b[43m)\u001b[49m\u001b[38;5;241;43m.\u001b[39;49m\u001b[38;5;21;43m__getattribute__\u001b[39;49m\u001b[43m(\u001b[49m\u001b[43mitem\u001b[49m\u001b[43m)\u001b[49m\n\u001b[1;32m    807\u001b[0m     \u001b[38;5;28;01melse\u001b[39;00m:\n\u001b[1;32m    808\u001b[0m         \u001b[38;5;28;01mimport\u001b[39;00m \u001b[38;5;21;01minspect\u001b[39;00m\n",
      "File \u001b[0;32m~/anaconda3/envs/entorno_prueba/lib/python3.11/site-packages/selenium/webdriver/remote/webdriver.py:449\u001b[0m, in \u001b[0;36mWebDriver.page_source\u001b[0;34m(self)\u001b[0m\n\u001b[1;32m    440\u001b[0m \u001b[38;5;129m@property\u001b[39m\n\u001b[1;32m    441\u001b[0m \u001b[38;5;28;01mdef\u001b[39;00m \u001b[38;5;21mpage_source\u001b[39m(\u001b[38;5;28mself\u001b[39m) \u001b[38;5;241m-\u001b[39m\u001b[38;5;241m>\u001b[39m \u001b[38;5;28mstr\u001b[39m:\n\u001b[1;32m    442\u001b[0m \u001b[38;5;250m    \u001b[39m\u001b[38;5;124;03m\"\"\"Gets the source of the current page.\u001b[39;00m\n\u001b[1;32m    443\u001b[0m \n\u001b[1;32m    444\u001b[0m \u001b[38;5;124;03m    :Usage:\u001b[39;00m\n\u001b[0;32m   (...)\u001b[0m\n\u001b[1;32m    447\u001b[0m \u001b[38;5;124;03m            driver.page_source\u001b[39;00m\n\u001b[1;32m    448\u001b[0m \u001b[38;5;124;03m    \"\"\"\u001b[39;00m\n\u001b[0;32m--> 449\u001b[0m     \u001b[38;5;28;01mreturn\u001b[39;00m \u001b[38;5;28;43mself\u001b[39;49m\u001b[38;5;241;43m.\u001b[39;49m\u001b[43mexecute\u001b[49m\u001b[43m(\u001b[49m\u001b[43mCommand\u001b[49m\u001b[38;5;241;43m.\u001b[39;49m\u001b[43mGET_PAGE_SOURCE\u001b[49m\u001b[43m)\u001b[49m[\u001b[38;5;124m\"\u001b[39m\u001b[38;5;124mvalue\u001b[39m\u001b[38;5;124m\"\u001b[39m]\n",
      "File \u001b[0;32m~/anaconda3/envs/entorno_prueba/lib/python3.11/site-packages/selenium/webdriver/remote/webdriver.py:348\u001b[0m, in \u001b[0;36mWebDriver.execute\u001b[0;34m(self, driver_command, params)\u001b[0m\n\u001b[1;32m    346\u001b[0m response \u001b[38;5;241m=\u001b[39m \u001b[38;5;28mself\u001b[39m\u001b[38;5;241m.\u001b[39mcommand_executor\u001b[38;5;241m.\u001b[39mexecute(driver_command, params)\n\u001b[1;32m    347\u001b[0m \u001b[38;5;28;01mif\u001b[39;00m response:\n\u001b[0;32m--> 348\u001b[0m     \u001b[38;5;28;43mself\u001b[39;49m\u001b[38;5;241;43m.\u001b[39;49m\u001b[43merror_handler\u001b[49m\u001b[38;5;241;43m.\u001b[39;49m\u001b[43mcheck_response\u001b[49m\u001b[43m(\u001b[49m\u001b[43mresponse\u001b[49m\u001b[43m)\u001b[49m\n\u001b[1;32m    349\u001b[0m     response[\u001b[38;5;124m\"\u001b[39m\u001b[38;5;124mvalue\u001b[39m\u001b[38;5;124m\"\u001b[39m] \u001b[38;5;241m=\u001b[39m \u001b[38;5;28mself\u001b[39m\u001b[38;5;241m.\u001b[39m_unwrap_value(response\u001b[38;5;241m.\u001b[39mget(\u001b[38;5;124m\"\u001b[39m\u001b[38;5;124mvalue\u001b[39m\u001b[38;5;124m\"\u001b[39m, \u001b[38;5;28;01mNone\u001b[39;00m))\n\u001b[1;32m    350\u001b[0m     \u001b[38;5;28;01mreturn\u001b[39;00m response\n",
      "File \u001b[0;32m~/anaconda3/envs/entorno_prueba/lib/python3.11/site-packages/selenium/webdriver/remote/errorhandler.py:229\u001b[0m, in \u001b[0;36mErrorHandler.check_response\u001b[0;34m(self, response)\u001b[0m\n\u001b[1;32m    227\u001b[0m         alert_text \u001b[38;5;241m=\u001b[39m value[\u001b[38;5;124m\"\u001b[39m\u001b[38;5;124malert\u001b[39m\u001b[38;5;124m\"\u001b[39m]\u001b[38;5;241m.\u001b[39mget(\u001b[38;5;124m\"\u001b[39m\u001b[38;5;124mtext\u001b[39m\u001b[38;5;124m\"\u001b[39m)\n\u001b[1;32m    228\u001b[0m     \u001b[38;5;28;01mraise\u001b[39;00m exception_class(message, screen, stacktrace, alert_text)  \u001b[38;5;66;03m# type: ignore[call-arg]  # mypy is not smart enough here\u001b[39;00m\n\u001b[0;32m--> 229\u001b[0m \u001b[38;5;28;01mraise\u001b[39;00m exception_class(message, screen, stacktrace)\n",
      "\u001b[0;31mNoSuchWindowException\u001b[0m: Message: no such window: target window already closed\nfrom unknown error: web view not found\n  (Session info: chrome=123.0.6312.58)\nStacktrace:\n0   undetected_chromedriver             0x00000001057fe0f8 undetected_chromedriver + 4595960\n1   undetected_chromedriver             0x00000001057f5e63 undetected_chromedriver + 4562531\n2   undetected_chromedriver             0x00000001053f939a undetected_chromedriver + 381850\n3   undetected_chromedriver             0x00000001053d217d undetected_chromedriver + 221565\n4   undetected_chromedriver             0x000000010546ce4d undetected_chromedriver + 855629\n5   undetected_chromedriver             0x0000000105484858 undetected_chromedriver + 952408\n6   undetected_chromedriver             0x0000000105464ee3 undetected_chromedriver + 823011\n7   undetected_chromedriver             0x0000000105435be4 undetected_chromedriver + 629732\n8   undetected_chromedriver             0x000000010543679e undetected_chromedriver + 632734\n9   undetected_chromedriver             0x00000001057c4012 undetected_chromedriver + 4358162\n10  undetected_chromedriver             0x00000001057c8c5d undetected_chromedriver + 4377693\n11  undetected_chromedriver             0x00000001057c85d3 undetected_chromedriver + 4376019\n12  undetected_chromedriver             0x00000001057c8f05 undetected_chromedriver + 4378373\n13  undetected_chromedriver             0x00000001057ada35 undetected_chromedriver + 4266549\n14  undetected_chromedriver             0x00000001057c928d undetected_chromedriver + 4379277\n15  undetected_chromedriver             0x00000001057a0080 undetected_chromedriver + 4210816\n16  undetected_chromedriver             0x00000001057e6ac8 undetected_chromedriver + 4500168\n17  undetected_chromedriver             0x00000001057e6c41 undetected_chromedriver + 4500545\n18  undetected_chromedriver             0x00000001057f5aa3 undetected_chromedriver + 4561571\n19  libsystem_pthread.dylib             0x00007ff801332202 _pthread_start + 99\n20  libsystem_pthread.dylib             0x00007ff80132dbab thread_start + 15\n"
     ]
    }
   ],
   "source": [
    "html=driver.page_source\n",
    "soup=BeautifulSoup(html, 'html.parser')\n",
    "\n",
    "\n",
    "#Coger el titulo del apartamento\n",
    "tit=soup.find('h1')\n",
    "tit.text"
   ]
  },
  {
   "cell_type": "code",
   "execution_count": null,
   "metadata": {},
   "outputs": [
    {
     "data": {
      "text/plain": [
       "'Alojamiento entero: vivienda en Denia, España'"
      ]
     },
     "execution_count": 9,
     "metadata": {},
     "output_type": "execute_result"
    }
   ],
   "source": [
    "desc=soup.find('h2')\n",
    "desc.text"
   ]
  },
  {
   "cell_type": "code",
   "execution_count": null,
   "metadata": {},
   "outputs": [
    {
     "data": {
      "text/plain": [
       "'8\\xa0viajeros ·  · 4 dormitorios ·  · 8 camas ·  · 3 baños'"
      ]
     },
     "execution_count": 10,
     "metadata": {},
     "output_type": "execute_result"
    }
   ],
   "source": [
    "datos=soup.find('ol')\n",
    "datos.text"
   ]
  },
  {
   "cell_type": "code",
   "execution_count": 13,
   "metadata": {},
   "outputs": [
    {
     "ename": "NameError",
     "evalue": "name 'soup' is not defined",
     "output_type": "error",
     "traceback": [
      "\u001b[0;31m---------------------------------------------------------------------------\u001b[0m",
      "\u001b[0;31mNameError\u001b[0m                                 Traceback (most recent call last)",
      "Cell \u001b[0;32mIn[13], line 2\u001b[0m\n\u001b[1;32m      1\u001b[0m \u001b[38;5;28;01mimport\u001b[39;00m \u001b[38;5;21;01mre\u001b[39;00m\n\u001b[0;32m----> 2\u001b[0m ev\u001b[38;5;241m=\u001b[39m\u001b[43msoup\u001b[49m\u001b[38;5;241m.\u001b[39mfind_all(\u001b[38;5;124m'\u001b[39m\u001b[38;5;124mspan\u001b[39m\u001b[38;5;124m'\u001b[39m)\n\u001b[1;32m      4\u001b[0m pattern\u001b[38;5;241m=\u001b[39m\u001b[38;5;124mr\u001b[39m\u001b[38;5;124m'\u001b[39m\u001b[38;5;124m[0-9]+\u001b[39m\u001b[38;5;124m\\\u001b[39m\u001b[38;5;124ms(evaluaciones)$\u001b[39m\u001b[38;5;124m'\u001b[39m\n\u001b[1;32m      5\u001b[0m \u001b[38;5;28;01mfor\u001b[39;00m e \u001b[38;5;129;01min\u001b[39;00m ev:\n",
      "\u001b[0;31mNameError\u001b[0m: name 'soup' is not defined"
     ]
    }
   ],
   "source": [
    "import re\n",
    "ev=soup.find_all('span')\n",
    "\n",
    "pattern=r'[0-9]+\\s(evaluaciones)$'\n",
    "for e in ev:\n",
    "    if len(re.findall(pattern,e.text))>0:\n",
    "        eval=e.text\n",
    "        break\n",
    "\n",
    "eval"
   ]
  },
  {
   "cell_type": "code",
   "execution_count": 12,
   "metadata": {},
   "outputs": [
    {
     "ename": "NameError",
     "evalue": "name 'ev' is not defined",
     "output_type": "error",
     "traceback": [
      "\u001b[0;31m---------------------------------------------------------------------------\u001b[0m",
      "\u001b[0;31mNameError\u001b[0m                                 Traceback (most recent call last)",
      "Cell \u001b[0;32mIn[12], line 2\u001b[0m\n\u001b[1;32m      1\u001b[0m pattern\u001b[38;5;241m=\u001b[39m\u001b[38;5;124mr\u001b[39m\u001b[38;5;124m'\u001b[39m\u001b[38;5;124m[0-9]+\u001b[39m\u001b[38;5;124m\\\u001b[39m\u001b[38;5;124ms(€)\u001b[39m\u001b[38;5;124m\\\u001b[39m\u001b[38;5;124ms$\u001b[39m\u001b[38;5;124m'\u001b[39m\n\u001b[0;32m----> 2\u001b[0m \u001b[38;5;28;01mfor\u001b[39;00m e \u001b[38;5;129;01min\u001b[39;00m \u001b[43mev\u001b[49m:\n\u001b[1;32m      3\u001b[0m     \u001b[38;5;28;01mif\u001b[39;00m \u001b[38;5;28mlen\u001b[39m(re\u001b[38;5;241m.\u001b[39mfindall(pattern,e\u001b[38;5;241m.\u001b[39mtext))\u001b[38;5;241m>\u001b[39m\u001b[38;5;241m0\u001b[39m:\n\u001b[1;32m      4\u001b[0m         prec\u001b[38;5;241m=\u001b[39me\u001b[38;5;241m.\u001b[39mtext\n",
      "\u001b[0;31mNameError\u001b[0m: name 'ev' is not defined"
     ]
    }
   ],
   "source": [
    "pattern=r'[0-9]+\\s(€)\\s$'\n",
    "for e in ev:\n",
    "    if len(re.findall(pattern,e.text))>0:\n",
    "        prec=e.text\n",
    "        break\n",
    "prec"
   ]
  },
  {
   "cell_type": "code",
   "execution_count": null,
   "metadata": {},
   "outputs": [
    {
     "name": "stdout",
     "output_type": "stream",
     "text": [
      "Limpieza5,0\n"
     ]
    }
   ],
   "source": [
    "divs=soup.find_all('div')\n",
    "pat_limp=r'^(Limpieza)[0-9],[0-9]$'\n",
    "for d in divs:\n",
    "\n",
    "    if len(re.findall(pat_limp,d.text))>0:\n",
    "        print(d.text)"
   ]
  },
  {
   "cell_type": "code",
   "execution_count": null,
   "metadata": {},
   "outputs": [
    {
     "name": "stdout",
     "output_type": "stream",
     "text": [
      "Veracidad5,0\n"
     ]
    }
   ],
   "source": [
    "pat_ver=r'^(Veracidad)[0-9],[0-9]$'\n",
    "for d in divs:\n",
    "\n",
    "    if len(re.findall(pat_ver,d.text))>0:\n",
    "        print(d.text)"
   ]
  },
  {
   "cell_type": "code",
   "execution_count": 69,
   "metadata": {},
   "outputs": [],
   "source": [
    "def ext_info(driver,url):\n",
    "    driver.get(url)\n",
    "    time.sleep(3)\n",
    "    tit=desc_s=info=evaluaciones=precio=limp=vera=lleg=com=ub=cal=serv=local=''\n",
    "    \n",
    "    html=driver.page_source\n",
    "    soup=BeautifulSoup(html, 'html.parser')\n",
    "    try:\n",
    "        tit=soup.find('h1').text\n",
    "    except:\n",
    "        print('ERROR al obtener el Titulo')\n",
    "    \n",
    "    try:\n",
    "        desc_s=soup.find('h2').text\n",
    "    except:\n",
    "        print('Error al obtener la descripcion')\n",
    "    \n",
    "    try:\n",
    "        info=soup.find('ol').text\n",
    "    except:\n",
    "        print('Error al obtener la informacion')\n",
    "\n",
    "    try:\n",
    "        ev=soup.find_all('span')\n",
    "        pattern=r'^[0-9]+\\s(evaluaciones)$'\n",
    "        for e in ev:\n",
    "            if len(re.findall(pattern,e.text))>0:\n",
    "                evaluaciones=e.text\n",
    "                break\n",
    "        \n",
    "        divs=soup.find_all('div')\n",
    "        pat_limp=r'^(Limpieza)[0-9],[0-9]$'\n",
    "        pat_ver=r'^(Veracidad)[0-9],[0-9]$'\n",
    "        pat_lleg=r'^(Llegada)[0-9],[0-9]$'\n",
    "        pat_com=r'^(Comunicación)[0-9],[0-9]$'\n",
    "        pat_ub=r'^(Ubicación)[0-9],[0-9]$'\n",
    "        pat_cal=r'^(Calidad)[0-9],[0-9]$'\n",
    "\n",
    "        for d in divs:\n",
    "            if len(re.findall(pat_limp,d.text))>0:\n",
    "                limp=d.text\n",
    "            \n",
    "            elif len(re.findall(pat_ver,d.text))>0:\n",
    "                vera=d.text\n",
    "            elif len(re.findall(pat_lleg,d.text))>0:\n",
    "                lleg=d.text\n",
    "            elif len(re.findall(pat_com,d.text))>0:\n",
    "                com=d.text\n",
    "            elif len(re.findall(pat_ub,d.text))>0:\n",
    "                ub=d.text\n",
    "            elif len(re.findall(pat_cal,d.text))>0:\n",
    "                cal=d.text\n",
    "            else:\n",
    "                pass\n",
    "\n",
    "    except:\n",
    "        print('No tiene evaluaciones')\n",
    "    \n",
    "    try:\n",
    "        pattern=r'[0-9]+\\s(€)\\s$'\n",
    "        for e in ev:\n",
    "            if len(re.findall(pattern,e.text))>0:\n",
    "                precio=e.text\n",
    "                break\n",
    "    except:\n",
    "        print('Error buscando el precio')\n",
    "    \n",
    "    sps=soup.find_all('section')\n",
    "\n",
    "    for s in sps:\n",
    "        if s.text.find('¿Qué hay en este alojamiento?')!=-1:\n",
    "            serv=s.text[len('¿Qué hay en este alojamiento?'):]\n",
    "        \n",
    "        if s.text.find('¿Dónde me voy a quedar?')!=-1:\n",
    "            local=s.text[len('¿Dónde me voy a quedar?'):]\n",
    "        \n",
    "    return tit,desc_s,info,evaluaciones,precio,limp,vera,lleg,com,ub,cal,serv,local\n",
    "    "
   ]
  },
  {
   "cell_type": "code",
   "execution_count": 70,
   "metadata": {},
   "outputs": [],
   "source": [
    "import json\n",
    "\n",
    "with open('urls.json','r') as jsonfile:\n",
    "    data=json.load(jsonfile)\n",
    "\n",
    "driver=iniciar_wd()\n",
    "ids=[]\n",
    "titulos=[]\n",
    "desc_sen=[]\n",
    "informacion=[]\n",
    "eval=[]\n",
    "tipo=[]\n",
    "precios=[]\n",
    "enlaces=[]\n",
    "limpieza=[]\n",
    "veracidad=[]\n",
    "llegada=[]\n",
    "comunicacion=[]\n",
    "ubicacion=[]\n",
    "calidad=[]\n",
    "servicios=[]\n",
    "localizacion=[]\n",
    "for k in data.keys():\n",
    "    for url in data[k]:\n",
    "        a,b,c,d,f,g,h,i,j,l,m,n,o=ext_info(driver,url)\n",
    "        \n",
    "        ids.append(hash(url))\n",
    "        titulos.append(a)\n",
    "        desc_sen.append(b)\n",
    "        informacion.append(c)\n",
    "        eval.append(d)\n",
    "        tipo.append(k)\n",
    "        precios.append(f)\n",
    "        enlaces.append(url)\n",
    "        limpieza.append(g)\n",
    "        veracidad.append(h)\n",
    "        llegada.append(i)\n",
    "        comunicacion.append(j)\n",
    "        ubicacion.append(l)\n",
    "        calidad.append(m)\n",
    "        servicios.append(n)\n",
    "        localizacion.append(o)\n",
    "\n",
    "driver.close()"
   ]
  },
  {
   "cell_type": "code",
   "execution_count": 72,
   "metadata": {},
   "outputs": [
    {
     "data": {
      "text/html": [
       "<div>\n",
       "<style scoped>\n",
       "    .dataframe tbody tr th:only-of-type {\n",
       "        vertical-align: middle;\n",
       "    }\n",
       "\n",
       "    .dataframe tbody tr th {\n",
       "        vertical-align: top;\n",
       "    }\n",
       "\n",
       "    .dataframe thead th {\n",
       "        text-align: right;\n",
       "    }\n",
       "</style>\n",
       "<table border=\"1\" class=\"dataframe\">\n",
       "  <thead>\n",
       "    <tr style=\"text-align: right;\">\n",
       "      <th></th>\n",
       "      <th>ID</th>\n",
       "      <th>Titulo</th>\n",
       "      <th>Descripcion Simple</th>\n",
       "      <th>Informacion</th>\n",
       "      <th>Evaluaciones</th>\n",
       "      <th>Tipo</th>\n",
       "      <th>Precio</th>\n",
       "      <th>URL</th>\n",
       "      <th>Limpieza</th>\n",
       "      <th>Veracidad</th>\n",
       "      <th>Llegada</th>\n",
       "      <th>Comunicacion</th>\n",
       "      <th>Ubicacion</th>\n",
       "      <th>Calidad</th>\n",
       "      <th>Servicios</th>\n",
       "      <th>Localizacion</th>\n",
       "    </tr>\n",
       "  </thead>\n",
       "  <tbody>\n",
       "    <tr>\n",
       "      <th>0</th>\n",
       "      <td>1200688382914319681</td>\n",
       "      <td>Magníficas vistas sobre la arena de la playa Wifi</td>\n",
       "      <td>Alojamiento entero: piso en Guardamar de la Sa...</td>\n",
       "      <td>6 viajeros ·  · 3 dormitorios ·  · 5 camas ·  ...</td>\n",
       "      <td>59 evaluaciones</td>\n",
       "      <td>A pie de playa</td>\n",
       "      <td>78 €</td>\n",
       "      <td>https://www.airbnb.es/rooms/31709557?adults=1&amp;...</td>\n",
       "      <td>Limpieza4,9</td>\n",
       "      <td>Veracidad4,9</td>\n",
       "      <td>Llegada5,0</td>\n",
       "      <td>Comunicación4,8</td>\n",
       "      <td>Ubicación4,9</td>\n",
       "      <td>Calidad4,8</td>\n",
       "      <td>Vistas al marVistas al marAcceso a la playa, p...</td>\n",
       "      <td>Guardamar de la Safor, Comunidad Valenciana, E...</td>\n",
       "    </tr>\n",
       "    <tr>\n",
       "      <th>1</th>\n",
       "      <td>5375220911806434689</td>\n",
       "      <td>Melior-1E</td>\n",
       "      <td>Alojamiento entero: piso en Calp, España</td>\n",
       "      <td>6 viajeros ·  · 2 dormitorios ·  · 3 camas ·  ...</td>\n",
       "      <td>8 evaluaciones</td>\n",
       "      <td>A pie de playa</td>\n",
       "      <td>83 €</td>\n",
       "      <td>https://www.airbnb.es/rooms/37584336?adults=1&amp;...</td>\n",
       "      <td>Limpieza4,9</td>\n",
       "      <td>Veracidad4,5</td>\n",
       "      <td>Llegada4,5</td>\n",
       "      <td>Comunicación4,8</td>\n",
       "      <td>Ubicación4,8</td>\n",
       "      <td>Calidad4,8</td>\n",
       "      <td>Vistas a la montañaWifiTVAscensorLavadoraAire ...</td>\n",
       "      <td>Calp, España</td>\n",
       "    </tr>\n",
       "    <tr>\n",
       "      <th>2</th>\n",
       "      <td>556517738340669403</td>\n",
       "      <td>VERALUX</td>\n",
       "      <td>Alojamiento entero: piso en Benidorm, España</td>\n",
       "      <td>4 viajeros ·  · 2 dormitorios ·  · 3 camas ·  ...</td>\n",
       "      <td>20 evaluaciones</td>\n",
       "      <td>A pie de playa</td>\n",
       "      <td>70 €</td>\n",
       "      <td>https://www.airbnb.es/rooms/46527977?adults=1&amp;...</td>\n",
       "      <td>Limpieza3,5</td>\n",
       "      <td>Veracidad4,6</td>\n",
       "      <td>Llegada4,7</td>\n",
       "      <td>Comunicación4,8</td>\n",
       "      <td>Ubicación5,0</td>\n",
       "      <td>Calidad4,3</td>\n",
       "      <td>Acceso a la playa, primera líneaCocinaWifiZona...</td>\n",
       "      <td>Benidorm, Comunidad Valenciana, España1ª línea...</td>\n",
       "    </tr>\n",
       "    <tr>\n",
       "      <th>3</th>\n",
       "      <td>8800182335332003755</td>\n",
       "      <td>Isea Calpe</td>\n",
       "      <td>Alojamiento entero: piso en Calp, España</td>\n",
       "      <td>4 viajeros ·  · 2 dormitorios ·  · 3 camas ·  ...</td>\n",
       "      <td>557 evaluaciones</td>\n",
       "      <td>A pie de playa</td>\n",
       "      <td>128 €</td>\n",
       "      <td>https://www.airbnb.es/rooms/721277134871448378...</td>\n",
       "      <td></td>\n",
       "      <td></td>\n",
       "      <td></td>\n",
       "      <td></td>\n",
       "      <td></td>\n",
       "      <td></td>\n",
       "      <td>CocinaWifiPiscinaTVAscensorLavadoraAire acondi...</td>\n",
       "      <td>Calp, Comunidad Valenciana, España</td>\n",
       "    </tr>\n",
       "    <tr>\n",
       "      <th>4</th>\n",
       "      <td>-5036294419472545696</td>\n",
       "      <td>Apartamento luminoso, internet, Netflix</td>\n",
       "      <td>Alojamiento entero: apto. residencial en Grau ...</td>\n",
       "      <td>6 viajeros ·  · 2 dormitorios ·  · 6 camas ·  ...</td>\n",
       "      <td>64 evaluaciones</td>\n",
       "      <td>A pie de playa</td>\n",
       "      <td>85 €</td>\n",
       "      <td>https://www.airbnb.es/rooms/50155790?adults=1&amp;...</td>\n",
       "      <td>Limpieza4,9</td>\n",
       "      <td>Veracidad4,9</td>\n",
       "      <td>Llegada4,9</td>\n",
       "      <td>Comunicación4,9</td>\n",
       "      <td>Ubicación4,7</td>\n",
       "      <td>Calidad4,7</td>\n",
       "      <td>Vistas al marVistas al jardínAcceso a la playa...</td>\n",
       "      <td>Grau i Platja, Comunidad Valenciana, España</td>\n",
       "    </tr>\n",
       "  </tbody>\n",
       "</table>\n",
       "</div>"
      ],
      "text/plain": [
       "                    ID                                             Titulo  \\\n",
       "0  1200688382914319681  Magníficas vistas sobre la arena de la playa Wifi   \n",
       "1  5375220911806434689                                          Melior-1E   \n",
       "2   556517738340669403                                            VERALUX   \n",
       "3  8800182335332003755                                         Isea Calpe   \n",
       "4 -5036294419472545696            Apartamento luminoso, internet, Netflix   \n",
       "\n",
       "                                  Descripcion Simple  \\\n",
       "0  Alojamiento entero: piso en Guardamar de la Sa...   \n",
       "1           Alojamiento entero: piso en Calp, España   \n",
       "2       Alojamiento entero: piso en Benidorm, España   \n",
       "3           Alojamiento entero: piso en Calp, España   \n",
       "4  Alojamiento entero: apto. residencial en Grau ...   \n",
       "\n",
       "                                         Informacion      Evaluaciones  \\\n",
       "0  6 viajeros ·  · 3 dormitorios ·  · 5 camas ·  ...   59 evaluaciones   \n",
       "1  6 viajeros ·  · 2 dormitorios ·  · 3 camas ·  ...    8 evaluaciones   \n",
       "2  4 viajeros ·  · 2 dormitorios ·  · 3 camas ·  ...   20 evaluaciones   \n",
       "3  4 viajeros ·  · 2 dormitorios ·  · 3 camas ·  ...  557 evaluaciones   \n",
       "4  6 viajeros ·  · 2 dormitorios ·  · 6 camas ·  ...   64 evaluaciones   \n",
       "\n",
       "             Tipo  Precio                                                URL  \\\n",
       "0  A pie de playa   78 €   https://www.airbnb.es/rooms/31709557?adults=1&...   \n",
       "1  A pie de playa   83 €   https://www.airbnb.es/rooms/37584336?adults=1&...   \n",
       "2  A pie de playa   70 €   https://www.airbnb.es/rooms/46527977?adults=1&...   \n",
       "3  A pie de playa  128 €   https://www.airbnb.es/rooms/721277134871448378...   \n",
       "4  A pie de playa   85 €   https://www.airbnb.es/rooms/50155790?adults=1&...   \n",
       "\n",
       "      Limpieza     Veracidad     Llegada     Comunicacion     Ubicacion  \\\n",
       "0  Limpieza4,9  Veracidad4,9  Llegada5,0  Comunicación4,8  Ubicación4,9   \n",
       "1  Limpieza4,9  Veracidad4,5  Llegada4,5  Comunicación4,8  Ubicación4,8   \n",
       "2  Limpieza3,5  Veracidad4,6  Llegada4,7  Comunicación4,8  Ubicación5,0   \n",
       "3                                                                         \n",
       "4  Limpieza4,9  Veracidad4,9  Llegada4,9  Comunicación4,9  Ubicación4,7   \n",
       "\n",
       "      Calidad                                          Servicios  \\\n",
       "0  Calidad4,8  Vistas al marVistas al marAcceso a la playa, p...   \n",
       "1  Calidad4,8  Vistas a la montañaWifiTVAscensorLavadoraAire ...   \n",
       "2  Calidad4,3  Acceso a la playa, primera líneaCocinaWifiZona...   \n",
       "3              CocinaWifiPiscinaTVAscensorLavadoraAire acondi...   \n",
       "4  Calidad4,7  Vistas al marVistas al jardínAcceso a la playa...   \n",
       "\n",
       "                                        Localizacion  \n",
       "0  Guardamar de la Safor, Comunidad Valenciana, E...  \n",
       "1                                       Calp, España  \n",
       "2  Benidorm, Comunidad Valenciana, España1ª línea...  \n",
       "3                 Calp, Comunidad Valenciana, España  \n",
       "4        Grau i Platja, Comunidad Valenciana, España  "
      ]
     },
     "execution_count": 72,
     "metadata": {},
     "output_type": "execute_result"
    }
   ],
   "source": [
    "result=pd.DataFrame(zip(ids,titulos,desc_sen,informacion,eval,tipo,precios,enlaces,limpieza,veracidad,llegada,comunicacion,ubicacion,calidad,servicios,localizacion),columns=['ID','Titulo','Descripcion Simple','Informacion','Evaluaciones','Tipo','Precio','URL','Limpieza','Veracidad','Llegada','Comunicacion','Ubicacion','Calidad','Servicios','Localizacion'])"
   ]
  },
  {
   "cell_type": "code",
   "execution_count": 73,
   "metadata": {},
   "outputs": [],
   "source": [
    "result.to_csv('DatasetAirbnb.csv',index=False)"
   ]
  }
 ],
 "metadata": {
  "kernelspec": {
   "display_name": "pruebp11",
   "language": "python",
   "name": "python3"
  },
  "language_info": {
   "codemirror_mode": {
    "name": "ipython",
    "version": 3
   },
   "file_extension": ".py",
   "mimetype": "text/x-python",
   "name": "python",
   "nbconvert_exporter": "python",
   "pygments_lexer": "ipython3",
   "version": "3.11.0"
  }
 },
 "nbformat": 4,
 "nbformat_minor": 2
}
