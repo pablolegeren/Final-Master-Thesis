{
 "cells": [
  {
   "cell_type": "markdown",
   "metadata": {},
   "source": [
    "%pip install --upgrade undetected-chromedriver"
   ]
  },
  {
   "cell_type": "code",
   "execution_count": 11,
   "metadata": {},
   "outputs": [],
   "source": [
    "import undetected_chromedriver as uc\n",
    "from selenium.webdriver.common.by import By\n",
    "from bs4 import BeautifulSoup\n",
    "import pandas as pd\n",
    "import time\n",
    "from selenium.webdriver.support.ui import WebDriverWait\n",
    "from selenium.webdriver.support import expected_conditions as ec\n",
    "from selenium.webdriver.common.action_chains import ActionChains\n",
    "from selenium.webdriver.common.keys import Keys"
   ]
  },
  {
   "cell_type": "markdown",
   "metadata": {},
   "source": [
    "Es necesario tener Google Chrome como navegador por omision."
   ]
  },
  {
   "cell_type": "code",
   "execution_count": 12,
   "metadata": {},
   "outputs": [],
   "source": [
    "#Funcion para arrancar el webdriver\n",
    "def iniciar_wd(headless=False):\n",
    "    options=uc.ChromeOptions()\n",
    "    options.add_argument('--password-store=basic')\n",
    "    options.add_experimental_option(\n",
    "        'prefs',\n",
    "        {'credentials_enable_service':False,\n",
    "         'profile.password_manager_enabled':False}\n",
    "    )\n",
    "    if headless:\n",
    "        options.add_argument('--headless')\n",
    "\n",
    "    #Iniciamos el driver\n",
    "    driver=uc.Chrome(options=options,headless=headless,log_level=3)\n",
    "    driver.maximize_window()\n",
    "    \n",
    "    return driver"
   ]
  },
  {
   "cell_type": "markdown",
   "metadata": {},
   "source": [
    "Para que funcione correctamente, una vez carga la pagina de Airbnb en el navegador, bajar a la parte inferior y clicar en el boton mostrar más. Finalmente, volver a subir a la parte superior de la pagina y esperar a que termine la ejecucion."
   ]
  },
  {
   "cell_type": "code",
   "execution_count": 19,
   "metadata": {},
   "outputs": [],
   "source": [
    "def obt_url():\n",
    "    driver=iniciar_wd()\n",
    "    driver.get('https://www.airbnb.es')\n",
    "\n",
    "    time.sleep(15)  #Espera mientras clicamos por primera vez el boton de mostrar mas\n",
    "    result={}\n",
    "    opc=['A pie de playa', 'En el campo','Cabañas']\n",
    "    for o in opc:\n",
    "        xpath_expresion = f\"//*[contains(text(), '{o}')]\"\n",
    "\n",
    "        # Buscar el elemento que contiene el texto\n",
    "        elemento = driver.find_element(By.XPATH,xpath_expresion)\n",
    "        elemento.click()\n",
    "        time.sleep(2)\n",
    "\n",
    "        scroll_height = driver.execute_script(\"return document.body.scrollHeight;\")\n",
    "        actions = ActionChains(driver)\n",
    "        # Hacer scroll hasta el final de la página\n",
    "        driver.execute_script(f\"window.scrollTo(0, {scroll_height});\")\n",
    "        actions.send_keys(Keys.PAGE_UP).perform()\n",
    "        time.sleep(3)\n",
    "        for i in range(6):\n",
    "            actions.send_keys(Keys.PAGE_UP).perform()\n",
    "            time.sleep(.5)\n",
    "        time.sleep(5)\n",
    "        \n",
    "        xpath_expresion = f\"//button\"\n",
    "        buts=driver.find_elements(By.XPATH,xpath_expresion)\n",
    "        for b in buts:\n",
    "            try:\n",
    "                if b.text.find('Mostrar más')!=-1:\n",
    "                    b.click()\n",
    "                    print('HA ENCONTRADO EL BOTON!!')\n",
    "            except:\n",
    "                print('NO TIENE ATRIBUTO TEXT')\n",
    "        time.sleep(3)\n",
    "        for i in range(120):\n",
    "            actions.send_keys(Keys.PAGE_DOWN).perform()\n",
    "            time.sleep(.1)\n",
    "        time.sleep(2)\n",
    "        \n",
    "        \n",
    "        html=driver.page_source\n",
    "        soup=BeautifulSoup(html, 'html.parser')\n",
    "        res=[]\n",
    "        urls=soup.find_all('a')\n",
    "        for u in urls:\n",
    "            en=u.get('href')\n",
    "            \n",
    "            if en.find('/rooms')!=-1:\n",
    "                res.append(f'https://www.airbnb.es{en}')\n",
    "        \n",
    "        result[o]=res\n",
    "    \n",
    "    driver.close()\n",
    "    return result"
   ]
  },
  {
   "cell_type": "code",
   "execution_count": 20,
   "metadata": {},
   "outputs": [],
   "source": [
    "import json\n",
    "res=obt_url()\n",
    "with open('urls.json','w') as jsonfile:\n",
    "    json.dump(res,jsonfile)"
   ]
  }
 ],
 "metadata": {
  "kernelspec": {
   "display_name": "base",
   "language": "python",
   "name": "python3"
  },
  "language_info": {
   "codemirror_mode": {
    "name": "ipython",
    "version": 3
   },
   "file_extension": ".py",
   "mimetype": "text/x-python",
   "name": "python",
   "nbconvert_exporter": "python",
   "pygments_lexer": "ipython3",
   "version": "3.11.0"
  }
 },
 "nbformat": 4,
 "nbformat_minor": 2
}
