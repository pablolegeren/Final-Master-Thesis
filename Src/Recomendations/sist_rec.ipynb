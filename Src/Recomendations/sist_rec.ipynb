{
 "cells": [
  {
   "cell_type": "markdown",
   "metadata": {},
   "source": [
    "# **Recomendacion basada en popularidad**\n",
    "---"
   ]
  },
  {
   "cell_type": "code",
   "execution_count": 1,
   "metadata": {},
   "outputs": [
    {
     "name": "stdout",
     "output_type": "stream",
     "text": [
      "                      ID                                  Titulo  \\\n",
      "79   6119377963866422626      Estudio Biarritz, estudio, 2 pers.   \n",
      "185  3262728650081535420               Estrella ii 2d Spaniahome   \n",
      "120  2130813439338571442  Nido acogedor entre la bahía y el mar.   \n",
      "\n",
      "     Evaluaciones  Promedio_Ratings  Puntuacion_Popularidad  \n",
      "79         6854.0          4.794622             4114.317849  \n",
      "185        2076.0          4.794622             1247.517849  \n",
      "120        1394.0          4.750000              838.300000  \n"
     ]
    }
   ],
   "source": [
    "import numpy as np\n",
    "import pandas as pd\n",
    "\n",
    "#Recomendacion por popularidad\n",
    "\n",
    "df=pd.read_csv('../../Dataset_Apart/Cleaned/DatasetAirbnb_Cleaned_v1.csv')\n",
    "# Definir las columnas de calificaciones\n",
    "rating_columns = ['Limpieza', 'Veracidad', 'Llegada', 'Comunicacion', 'Ubicacion', 'Calidad']\n",
    "\n",
    "# Llenar valores faltantes en las columnas de calificaciones con la media\n",
    "df[rating_columns] = df[rating_columns].fillna(df[rating_columns].mean())\n",
    "\n",
    "# Calcular el promedio de las calificaciones para cada apartamento\n",
    "df['Promedio_Ratings'] = df[rating_columns].mean(axis=1)\n",
    "\n",
    "# Definir la puntuación de popularidad como una combinación de evaluaciones y promedio de ratings\n",
    "# Ajusta los pesos según la importancia que quieras dar a cada factor\n",
    "peso_evaluaciones = 0.6\n",
    "peso_ratings = 0.4\n",
    "\n",
    "df['Puntuacion_Popularidad'] = peso_evaluaciones * df['Evaluaciones'] + peso_ratings * df['Promedio_Ratings']\n",
    "\n",
    "def recomendador_por_popularidad(df, top_n=5):\n",
    "    return df.sort_values(by='Puntuacion_Popularidad', ascending=False).head(top_n)\n",
    "\n",
    "# Obtener los 3 apartamentos más populares según la nueva métrica\n",
    "recomendaciones_populares = recomendador_por_popularidad(df, top_n=3)\n",
    "print(recomendaciones_populares[['ID', 'Titulo', 'Evaluaciones', 'Promedio_Ratings', 'Puntuacion_Popularidad']])\n"
   ]
  },
  {
   "cell_type": "code",
   "execution_count": null,
   "metadata": {},
   "outputs": [],
   "source": []
  }
 ],
 "metadata": {
  "kernelspec": {
   "display_name": "entorno_prueba",
   "language": "python",
   "name": "python3"
  },
  "language_info": {
   "codemirror_mode": {
    "name": "ipython",
    "version": 3
   },
   "file_extension": ".py",
   "mimetype": "text/x-python",
   "name": "python",
   "nbconvert_exporter": "python",
   "pygments_lexer": "ipython3",
   "version": "3.11.0"
  }
 },
 "nbformat": 4,
 "nbformat_minor": 2
}
