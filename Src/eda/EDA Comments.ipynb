{
 "cells": [
  {
   "cell_type": "code",
   "execution_count": null,
   "id": "185ada84-b0ff-4f63-b7ba-78258afdddb1",
   "metadata": {},
   "outputs": [],
   "source": [
    "pip install gender_guesser"
   ]
  },
  {
   "cell_type": "code",
   "execution_count": 4,
   "id": "c213cff6",
   "metadata": {},
   "outputs": [
    {
     "data": {
      "text/plain": [
       "user_id\n",
       " 3181651203787409572    449\n",
       " 234258406790106366     384\n",
       " 7397842214752822467    298\n",
       "-2727682506582907011    297\n",
       "-7932100151854954095    243\n",
       "-4957063714437462127    223\n",
       "-1226488663068563871    161\n",
       "-2209950067799643256    151\n",
       " 1483740088208321892    145\n",
       "-7574934947930304997    137\n",
       "Name: name, dtype: int64"
      ]
     },
     "execution_count": 4,
     "metadata": {},
     "output_type": "execute_result"
    }
   ],
   "source": [
    "import pandas as pd\n",
    "data=pd.read_csv('../../Dataset_Review/Cleaned/CommentDataset_cleaned_v1.csv')\n",
    "data.groupby(by=['user_id'])['name'].count().sort_values(ascending=False).head(10)"
   ]
  },
  {
   "cell_type": "code",
   "execution_count": null,
   "id": "ecfa6136-0d92-48ea-bb34-d01ec60a6176",
   "metadata": {},
   "outputs": [],
   "source": [
    "pip install torch"
   ]
  },
  {
   "cell_type": "code",
   "execution_count": null,
   "id": "3888030f-857b-4e21-a90a-eab6c11dbe22",
   "metadata": {},
   "outputs": [],
   "source": [
    "pip install transformers"
   ]
  },
  {
   "cell_type": "code",
   "execution_count": null,
   "id": "49f55ac7-5f90-408b-9063-58b29a4c1382",
   "metadata": {},
   "outputs": [],
   "source": [
    "pip install nltk"
   ]
  },
  {
   "cell_type": "code",
   "execution_count": null,
   "id": "4997b0e1-873b-4a25-be13-c4192422c8f2",
   "metadata": {},
   "outputs": [],
   "source": [
    "import pandas as pd\n",
    "\n",
    "import gender_guesser.detector as gender\n",
    "\n",
    "import re"
   ]
  },
  {
   "cell_type": "code",
   "execution_count": null,
   "id": "574d1991-77f8-46de-bac0-bf4aff2f6799",
   "metadata": {},
   "outputs": [],
   "source": [
    "reviews = pd.read_csv('CommentDataset_v1.csv')"
   ]
  },
  {
   "cell_type": "code",
   "execution_count": null,
   "id": "1996cb86-f433-4288-af7a-39aaeddeba8c",
   "metadata": {},
   "outputs": [],
   "source": [
    "d = gender.Detector(case_sensitive=False)"
   ]
  },
  {
   "cell_type": "code",
   "execution_count": null,
   "id": "e27ca4bc-7c7f-44c5-82ca-d9e2a3d0cd7b",
   "metadata": {},
   "outputs": [],
   "source": [
    "def solo_un_nombre(name):\n",
    "    partes = name.split()\n",
    "    if len(partes) > 1:\n",
    "        return partes[0]\n",
    "    else:\n",
    "        return name\n",
    "\n",
    "reviews['first_name'] = reviews['name'].apply(solo_un_nombre)\n",
    "\n",
    "reviews['gender'] = reviews['first_name'].apply(d.get_gender)"
   ]
  },
  {
   "cell_type": "code",
   "execution_count": null,
   "id": "ad1aec20-8308-46b7-beb9-6772dce974d5",
   "metadata": {},
   "outputs": [],
   "source": [
    "reviews = reviews.drop('first_name', axis=1)"
   ]
  },
  {
   "cell_type": "markdown",
   "id": "b0dfcaee-a309-4323-8ccf-c81da1e102cb",
   "metadata": {},
   "source": [
    "Para nombres que la librería no detecta el género bien pero que a ciencia cierta se sabe cuál es se imputa el valor manualmente."
   ]
  },
  {
   "cell_type": "code",
   "execution_count": null,
   "id": "e9cfd29d-9d6e-4545-bc87-739b4ba2afee",
   "metadata": {},
   "outputs": [],
   "source": [
    "reviews.loc[reviews['name'].isin(['Javier', 'Jesus', 'Jesús', 'João']), 'gender'] = 'male'\n",
    "\n",
    "reviews.loc[reviews['name'].str.startswith('María'), 'gender'] = 'female'\n",
    "reviews.loc[reviews['name'].isin(['Glória', 'Mary', 'Rocío', 'Lupe',\n",
    "                                  'Carol', 'Luz', 'Mary Paule', 'Leslie']), 'gender'] = 'female'"
   ]
  },
  {
   "cell_type": "markdown",
   "id": "641580c1-6f30-44ef-9696-1340804164a8",
   "metadata": {},
   "source": [
    "Pasaremos ahora a extraer el valor numérico de la columna valoracion."
   ]
  },
  {
   "cell_type": "code",
   "execution_count": null,
   "id": "f3593fd0-02ff-402e-ae5f-b3a5e899e49a",
   "metadata": {},
   "outputs": [],
   "source": [
    "def extraer_numeros(texto):\n",
    "    numeros = re.findall(r'\\d+', texto)\n",
    "    if numeros:\n",
    "        return int(numeros[0])\n",
    "    else:\n",
    "        return None\n",
    "\n",
    "reviews['rating'] = reviews['valoracion'].apply(extraer_numeros)"
   ]
  },
  {
   "cell_type": "code",
   "execution_count": null,
   "id": "80fca449-652e-4458-8ffc-8b7d598e5d4c",
   "metadata": {},
   "outputs": [],
   "source": [
    "reviews = reviews.drop('valoracion', axis=1)"
   ]
  },
  {
   "cell_type": "markdown",
   "id": "68651ec1-88ab-4e2e-8650-8fd397a5ebb7",
   "metadata": {},
   "source": [
    "Pasaremos ahora a hacer el análisis de las fotos de perfil de los usuarios y así poder extraer la información correspondiente al género y a la edad"
   ]
  },
  {
   "cell_type": "code",
   "execution_count": null,
   "id": "1a7432aa-8f59-4bc2-9a38-e15b9307f3ad",
   "metadata": {},
   "outputs": [],
   "source": [
    "pip install deepface"
   ]
  },
  {
   "cell_type": "code",
   "execution_count": null,
   "id": "691000a9-9b28-4287-a76a-fcc8ac3c6cad",
   "metadata": {},
   "outputs": [],
   "source": [
    "from deepface import DeepFace"
   ]
  },
  {
   "cell_type": "code",
   "execution_count": null,
   "id": "706c187c-78fe-40a4-a44a-8c8a5439a92d",
   "metadata": {},
   "outputs": [],
   "source": [
    "def analyze_image(image_path):\n",
    "    try:\n",
    "        result = DeepFace.analyze(image_path)\n",
    "        edad = result[0]['age']\n",
    "        genero = result[0]['dominant_gender']\n",
    "    except:\n",
    "        edad = None\n",
    "        genero = None\n",
    "    return edad, genero\n",
    "\n",
    "reviews[['edad', 'genero']] = reviews['imagen'].apply(lambda x: pd.Series(analyze_image(x)))"
   ]
  },
  {
   "cell_type": "markdown",
   "id": "d5f7b364-6457-4d12-a697-03be5c83c799",
   "metadata": {},
   "source": [
    "Ahora pasaremos con el NLP, la extracción de información de cada uno de los apartamentos a partir de los comentarios que los usuarios han hecho."
   ]
  },
  {
   "cell_type": "code",
   "execution_count": null,
   "id": "7a087639-535e-45d5-b9e7-04ed97d6cd57",
   "metadata": {},
   "outputs": [],
   "source": [
    "import torch"
   ]
  },
  {
   "cell_type": "code",
   "execution_count": null,
   "id": "8f687790-918b-44d2-92f0-01d6fb5956ca",
   "metadata": {},
   "outputs": [],
   "source": [
    "from transformers import AutoTokenizer, AutoModelForSequenceClassification\n",
    "\n",
    "tokenizer = AutoTokenizer.from_pretrained(\"nlptown/bert-base-multilingual-uncased-sentiment\", force_download=True)\n",
    "model = AutoModelForSequenceClassification.from_pretrained(\"nlptown/bert-base-multilingual-uncased-sentiment\", force_download=True)"
   ]
  },
  {
   "cell_type": "code",
   "execution_count": null,
   "id": "1f862d74-f624-40bc-a9a0-578af33d4413",
   "metadata": {},
   "outputs": [],
   "source": [
    "def calcular_puntaje_sentimiento(df):\n",
    "    analysis = []\n",
    "    for comentario in df['comentario']:\n",
    "        if isinstance(comentario, str):\n",
    "            # Truncar el comentario si es demasiado largo\n",
    "            comentario_truncado = comentario[:512]\n",
    "            tokens = tokenizer.encode(comentario_truncado, return_tensors='pt', max_length=512, truncation=True)\n",
    "            result = model(tokens)\n",
    "            score = torch.argmax(result.logits).item() + 1\n",
    "            analysis.append(score)\n",
    "        else:\n",
    "            analysis.append(None)  # Otra opción es asignar algún valor para comentarios que no sean cadenas de texto\n",
    "    df['analysis'] = analysis"
   ]
  },
  {
   "cell_type": "code",
   "execution_count": null,
   "id": "6fbfd3af-9a6c-49c4-af20-8e3ff3a335c5",
   "metadata": {},
   "outputs": [],
   "source": [
    "calcular_puntaje_sentimiento(reviews)"
   ]
  },
  {
   "cell_type": "markdown",
   "id": "1f50b28f-a9b2-4089-809f-145b843645ce",
   "metadata": {},
   "source": [
    "Este dato no se desechará todavía pero se observa que los datos obtenidos son muy similares a los valores de rating que ya se tenían."
   ]
  },
  {
   "cell_type": "code",
   "execution_count": null,
   "id": "ccf1ee75-23f4-4ffb-8067-41754417131b",
   "metadata": {},
   "outputs": [],
   "source": [
    "import string\n",
    "from nltk.corpus import stopwords\n",
    "from nltk.tokenize import word_tokenize\n",
    "from collections import Counter\n",
    "\n",
    "import nltk\n",
    "nltk.download('punkt')\n",
    "nltk.download('stopwords')\n",
    "\n",
    "# Definir una función para limpiar los comentarios\n",
    "def limpiar_comentario(comentario):\n",
    "    comentario_sin_puntuacion = re.sub('['+string.punctuation+']', '', comentario)\n",
    "    comentario_sin_estancia = re.sub(r'\\bestancia\\b', '', comentario_sin_puntuacion, flags=re.IGNORECASE)\n",
    "    comentario_sin_dias = re.sub(r'\\bdías\\b', '', comentario_sin_estancia, flags=re.IGNORECASE)\n",
    "    return comentario_sin_dias\n",
    "\n",
    "aparts['comentario_limpio'] = aparts['comentario'].apply(limpiar_comentario)\n",
    "\n",
    "stopwords_espanol = set(stopwords.words('spanish'))\n",
    "\n",
    "comentarios_por_apartamento = aparts.groupby('apart_id')['comentario_limpio'].apply(lambda x: ' '.join(x)).reset_index()\n",
    "\n",
    "textos_por_apartamento = comentarios_por_apartamento['comentario_limpio'].tolist()\n",
    "\n",
    "palabras_por_apartamento = [[palabra.lower() for palabra in word_tokenize(texto) if palabra.lower() not in stopwords_espanol] for texto in textos_por_apartamento]\n",
    "\n",
    "palabras_comunes_por_apartamento = [Counter(palabras) for palabras in palabras_por_apartamento]\n",
    "\n",
    "palabras_x_apartamento = pd.DataFrame({'apart_id': comentarios_por_apartamento['apart_id'],\n",
    "    'palabras_comunes': palabras_comunes_por_apartamento})"
   ]
  },
  {
   "cell_type": "code",
   "execution_count": null,
   "id": "122b0e6f-29eb-49f5-823d-01773accdf91",
   "metadata": {},
   "outputs": [],
   "source": [
    "from collections import Counter\n",
    "\n",
    "# Palabras clave a buscar en los comentarios\n",
    "palabras_clave = ['en pareja', 'con pareja', 'en familia', 'con hijos', 'con amigos', 'solo']\n",
    "\n",
    "# Paso 1: Agrupa los comentarios por apartamento\n",
    "comentarios_por_apartamento = aparts.groupby('apart_id')['comentario_limpio'].apply(lambda x: ' '.join(x)).reset_index()\n",
    "\n",
    "# Paso 2: Combina todos los comentarios correspondientes a cada apartamento en un solo texto\n",
    "textos_por_apartamento = comentarios_por_apartamento['comentario_limpio'].tolist()\n",
    "\n",
    "# Paso 3: Busca la palabra más común entre las palabras clave en los comentarios de cada apartamento\n",
    "palabra_mas_comun_por_apartamento = []\n",
    "for texto in textos_por_apartamento:\n",
    "    contador_palabras_clave = Counter()\n",
    "    for palabra_clave in palabras_clave:\n",
    "        contador_palabras_clave[palabra_clave] = texto.count(palabra_clave)\n",
    "    palabra_mas_comun = contador_palabras_clave.most_common(1)\n",
    "    palabra_mas_comun_por_apartamento.append(palabra_mas_comun[0][0] if palabra_mas_comun else None)\n",
    "\n",
    "# Crear un DataFrame con los resultados\n",
    "df_palabra_mas_comun = pd.DataFrame(palabra_mas_comun_por_apartamento, columns=['Palabra Más Común'])\n",
    "\n",
    "# Agregar el id del apartamento como índice\n",
    "df_palabra_mas_comun['apart_id'] = comentarios_por_apartamento['apart_id']\n",
    "df_palabra_mas_comun = df_palabra_mas_comun.set_index('apart_id')"
   ]
  },
  {
   "cell_type": "code",
   "execution_count": null,
   "id": "e8a737ca-fc88-4578-b166-a7210d866a78",
   "metadata": {},
   "outputs": [],
   "source": [
    "reviews.to_csv('CommentDataset_final.csv')"
   ]
  },
  {
   "cell_type": "code",
   "execution_count": null,
   "id": "1087aca7-b017-4334-af3b-6ca18a40477d",
   "metadata": {},
   "outputs": [],
   "source": [
    "df_palabra_mas_comun.to_csv('CompaniaApart.csv')"
   ]
  },
  {
   "cell_type": "code",
   "execution_count": null,
   "id": "506a1143-e2f6-443a-9805-b71ca7aa1e80",
   "metadata": {},
   "outputs": [],
   "source": [
    "palabras_x_apartamento.to_csv('PalabrasApart.csv')"
   ]
  }
 ],
 "metadata": {
  "kernelspec": {
   "display_name": "Python 3 (ipykernel)",
   "language": "python",
   "name": "python3"
  },
  "language_info": {
   "codemirror_mode": {
    "name": "ipython",
    "version": 3
   },
   "file_extension": ".py",
   "mimetype": "text/x-python",
   "name": "python",
   "nbconvert_exporter": "python",
   "pygments_lexer": "ipython3",
   "version": "3.12.4"
  }
 },
 "nbformat": 4,
 "nbformat_minor": 5
}
