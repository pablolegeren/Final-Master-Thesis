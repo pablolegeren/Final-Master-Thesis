{
 "cells": [
  {
   "cell_type": "code",
   "execution_count": 1,
   "metadata": {},
   "outputs": [
    {
     "data": {
      "text/html": [
       "<div>\n",
       "<style scoped>\n",
       "    .dataframe tbody tr th:only-of-type {\n",
       "        vertical-align: middle;\n",
       "    }\n",
       "\n",
       "    .dataframe tbody tr th {\n",
       "        vertical-align: top;\n",
       "    }\n",
       "\n",
       "    .dataframe thead th {\n",
       "        text-align: right;\n",
       "    }\n",
       "</style>\n",
       "<table border=\"1\" class=\"dataframe\">\n",
       "  <thead>\n",
       "    <tr style=\"text-align: right;\">\n",
       "      <th></th>\n",
       "      <th>name</th>\n",
       "      <th>imagen</th>\n",
       "      <th>user_id</th>\n",
       "      <th>comentario</th>\n",
       "      <th>apart_id</th>\n",
       "      <th>ubicacion</th>\n",
       "      <th>gender</th>\n",
       "      <th>rating</th>\n",
       "    </tr>\n",
       "  </thead>\n",
       "  <tbody>\n",
       "    <tr>\n",
       "      <th>0</th>\n",
       "      <td>Axel Gabriel</td>\n",
       "      <td>https://a0.muscache.com/im/pictures/user/254d7...</td>\n",
       "      <td>7207102719398425561</td>\n",
       "      <td>Zona perfecta, se ve la playa desde el portal,...</td>\n",
       "      <td>-238439061290428255</td>\n",
       "      <td>España</td>\n",
       "      <td>male</td>\n",
       "      <td>5</td>\n",
       "    </tr>\n",
       "    <tr>\n",
       "      <th>1</th>\n",
       "      <td>Jakub</td>\n",
       "      <td>https://a0.muscache.com/im/pictures/user/69511...</td>\n",
       "      <td>6677389369241018499</td>\n",
       "      <td>El apartamento estaba muy frío, tanto que me e...</td>\n",
       "      <td>-238439061290428255</td>\n",
       "      <td>Polonia</td>\n",
       "      <td>male</td>\n",
       "      <td>1</td>\n",
       "    </tr>\n",
       "    <tr>\n",
       "      <th>2</th>\n",
       "      <td>Julia</td>\n",
       "      <td>https://a0.muscache.com/im/pictures/user/a1e42...</td>\n",
       "      <td>-2108179332470135818</td>\n",
       "      <td>Tuvimos una estancia agradable, el apartamento...</td>\n",
       "      <td>-238439061290428255</td>\n",
       "      <td>Lleva 9 años en Airbnb</td>\n",
       "      <td>female</td>\n",
       "      <td>5</td>\n",
       "    </tr>\n",
       "    <tr>\n",
       "      <th>3</th>\n",
       "      <td>Raquel</td>\n",
       "      <td>https://a0.muscache.com/im/pictures/user/36606...</td>\n",
       "      <td>-6435857393761549855</td>\n",
       "      <td>Apartamento estupendo. Bernardo y su mujer son...</td>\n",
       "      <td>-238439061290428255</td>\n",
       "      <td>España</td>\n",
       "      <td>female</td>\n",
       "      <td>5</td>\n",
       "    </tr>\n",
       "    <tr>\n",
       "      <th>4</th>\n",
       "      <td>Thammy</td>\n",
       "      <td>https://a0.muscache.com/im/pictures/user/User-...</td>\n",
       "      <td>3276633884495524409</td>\n",
       "      <td>Piso bonito ,agradable, camas tanto de soltero...</td>\n",
       "      <td>-238439061290428255</td>\n",
       "      <td>Barcelona, España</td>\n",
       "      <td>unknown</td>\n",
       "      <td>5</td>\n",
       "    </tr>\n",
       "  </tbody>\n",
       "</table>\n",
       "</div>"
      ],
      "text/plain": [
       "           name                                             imagen  \\\n",
       "0  Axel Gabriel  https://a0.muscache.com/im/pictures/user/254d7...   \n",
       "1         Jakub  https://a0.muscache.com/im/pictures/user/69511...   \n",
       "2         Julia  https://a0.muscache.com/im/pictures/user/a1e42...   \n",
       "3        Raquel  https://a0.muscache.com/im/pictures/user/36606...   \n",
       "4        Thammy  https://a0.muscache.com/im/pictures/user/User-...   \n",
       "\n",
       "               user_id                                         comentario  \\\n",
       "0  7207102719398425561  Zona perfecta, se ve la playa desde el portal,...   \n",
       "1  6677389369241018499  El apartamento estaba muy frío, tanto que me e...   \n",
       "2 -2108179332470135818  Tuvimos una estancia agradable, el apartamento...   \n",
       "3 -6435857393761549855  Apartamento estupendo. Bernardo y su mujer son...   \n",
       "4  3276633884495524409  Piso bonito ,agradable, camas tanto de soltero...   \n",
       "\n",
       "             apart_id               ubicacion   gender  rating  \n",
       "0 -238439061290428255                  España     male       5  \n",
       "1 -238439061290428255                 Polonia     male       1  \n",
       "2 -238439061290428255  Lleva 9 años en Airbnb   female       5  \n",
       "3 -238439061290428255                  España   female       5  \n",
       "4 -238439061290428255       Barcelona, España  unknown       5  "
      ]
     },
     "execution_count": 1,
     "metadata": {},
     "output_type": "execute_result"
    }
   ],
   "source": [
    "import pandas as pd\n",
    "\n",
    "com=pd.read_csv('/Users/mariolamas/Desktop/Social-Network-Analysis/Dataset_Review/Cleaned/CommentDataset_cleaned_v1.csv')\n",
    "com.head()"
   ]
  },
  {
   "cell_type": "code",
   "execution_count": 7,
   "metadata": {},
   "outputs": [
    {
     "data": {
      "text/plain": [
       "32"
      ]
     },
     "execution_count": 7,
     "metadata": {},
     "output_type": "execute_result"
    }
   ],
   "source": [
    "sum(com.groupby('user_id')['name'].count().sort_values(ascending=False) > 5)"
   ]
  },
  {
   "cell_type": "code",
   "execution_count": null,
   "metadata": {},
   "outputs": [],
   "source": []
  }
 ],
 "metadata": {
  "kernelspec": {
   "display_name": "socialnetwork",
   "language": "python",
   "name": "python3"
  },
  "language_info": {
   "codemirror_mode": {
    "name": "ipython",
    "version": 3
   },
   "file_extension": ".py",
   "mimetype": "text/x-python",
   "name": "python",
   "nbconvert_exporter": "python",
   "pygments_lexer": "ipython3",
   "version": "3.12.4"
  }
 },
 "nbformat": 4,
 "nbformat_minor": 2
}
