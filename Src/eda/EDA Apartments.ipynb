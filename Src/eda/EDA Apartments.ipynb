{
 "cells": [
  {
   "cell_type": "code",
   "execution_count": null,
   "metadata": {},
   "outputs": [],
   "source": [
    "import pandas as pd\n",
    "import numpy as np\n",
    "import seaborn as sns\n",
    "from sklearn.impute import SimpleImputer\n",
    "import matplotlib.pyplot as plt"
   ]
  },
  {
   "cell_type": "code",
   "execution_count": null,
   "metadata": {},
   "outputs": [],
   "source": [
    "data_apart=pd.read_csv('../../Dataset_Apart/Cleaned/DatasetAirbnb_Cleaned_v1.csv')\n",
    "data_apart.head()"
   ]
  },
  {
   "cell_type": "code",
   "execution_count": null,
   "metadata": {},
   "outputs": [],
   "source": [
    "data_apart.info()"
   ]
  },
  {
   "cell_type": "markdown",
   "metadata": {},
   "source": [
    "# **Comprobamos valores nulos**\n",
    "---"
   ]
  },
  {
   "cell_type": "code",
   "execution_count": null,
   "metadata": {},
   "outputs": [],
   "source": [
    "data_apart.isna().sum()"
   ]
  },
  {
   "cell_type": "markdown",
   "metadata": {},
   "source": [
    "# **Descripcion de las variables numéricas**\n",
    "---"
   ]
  },
  {
   "cell_type": "code",
   "execution_count": null,
   "metadata": {},
   "outputs": [],
   "source": [
    "data_apart.describe()"
   ]
  },
  {
   "cell_type": "markdown",
   "metadata": {},
   "source": [
    "# **Descripcion de las variables categóricas**\n",
    "---"
   ]
  },
  {
   "cell_type": "code",
   "execution_count": null,
   "metadata": {},
   "outputs": [],
   "source": [
    "data_apart.describe(include='O')"
   ]
  },
  {
   "cell_type": "markdown",
   "metadata": {},
   "source": [
    "# **Conversion de localización a latitud, longitud**\n",
    "---"
   ]
  },
  {
   "cell_type": "code",
   "execution_count": null,
   "metadata": {},
   "outputs": [],
   "source": [
    "from time import sleep\n",
    "from geopy.geocoders import Nominatim\n",
    "import numpy as np\n",
    "import pandas as pd\n",
    "\n",
    "def lat_log(l):\n",
    "    geolocator = Nominatim(user_agent=\"España\")\n",
    "    try:\n",
    "        location = geolocator.geocode(l)\n",
    "        latitude = location.latitude\n",
    "        longitude = location.longitude\n",
    "        return latitude, longitude\n",
    "    except:\n",
    "        return 10000,10000\n",
    "data_apart['Latitud_Longitud']=data_apart['Localizacion'].apply(lambda x: lat_log(x))\n",
    "\n"
   ]
  },
  {
   "cell_type": "code",
   "execution_count": null,
   "metadata": {},
   "outputs": [],
   "source": [
    "data_apart['Latitud']=data_apart['Latitud_Longitud'].apply(lambda x: x[0])\n",
    "data_apart['Longitud']=data_apart['Latitud_Longitud'].apply(lambda x: x[1])\n",
    "data_apart.drop('Latitud_Longitud',axis=1,inplace=True)"
   ]
  },
  {
   "cell_type": "code",
   "execution_count": null,
   "metadata": {},
   "outputs": [],
   "source": [
    "data_apart.drop('Localizacion',axis=1,inplace=True)"
   ]
  },
  {
   "cell_type": "code",
   "execution_count": null,
   "metadata": {},
   "outputs": [],
   "source": [
    "data_apart.to_csv('../../Dataset_Apart/Cleaned/DatasetAirbnb_Cleaned_v1.csv',index=False)"
   ]
  },
  {
   "cell_type": "code",
   "execution_count": null,
   "metadata": {},
   "outputs": [],
   "source": [
    "data_apart.head()"
   ]
  },
  {
   "cell_type": "markdown",
   "metadata": {},
   "source": [
    "# **Estudio del Precio**\n",
    "---"
   ]
  },
  {
   "cell_type": "code",
   "execution_count": null,
   "metadata": {},
   "outputs": [],
   "source": [
    "import pandas as pd\n",
    "import plotly.express as px\n",
    "\n",
    "# Datos con latitud/longitud y valores\n",
    "datos=data_apart[(data_apart['Latitud']!=10000)&(data_apart['Longitud']!=10000)][['Latitud','Longitud','Precio']]\n",
    "fig = px.density_mapbox(datos, lat = 'Latitud', lon = 'Longitud', z = 'Precio',\n",
    "                        radius = 7,\n",
    "                        center = dict(lat = 40.45, lon = -3.6),\n",
    "                        zoom = 4,\n",
    "                        mapbox_style = 'open-street-map',\n",
    "                        color_continuous_scale = 'rainbow',\n",
    "                        opacity = 0.5)\n",
    "fig.show() \n"
   ]
  },
  {
   "cell_type": "markdown",
   "metadata": {},
   "source": [
    "En el mapa se observan 3 focos principales, Madrid, Alicante y Navarra, como los lugares mas caros."
   ]
  },
  {
   "cell_type": "markdown",
   "metadata": {},
   "source": [
    "#### **Precio medio por tipo de apartamento**"
   ]
  },
  {
   "cell_type": "code",
   "execution_count": null,
   "metadata": {},
   "outputs": [],
   "source": [
    "sns.barplot(data=data_apart.groupby('Tipo').agg({\n",
    "    'Precio':'mean'\n",
    "}).reset_index(), x='Tipo',y='Precio')\n"
   ]
  },
  {
   "cell_type": "markdown",
   "metadata": {},
   "source": [
    "En principio el tipo de apartamento mas caro, son los de tipo en el campo, seguramente debido al mayor espacio que tienen sus propiedades de media."
   ]
  },
  {
   "cell_type": "markdown",
   "metadata": {},
   "source": [
    "#### **Relacion entre media de valoraciones y precio**"
   ]
  },
  {
   "cell_type": "code",
   "execution_count": null,
   "metadata": {},
   "outputs": [],
   "source": [
    "sns.regplot(data=data_apart,x='Precio',y='Calidad')"
   ]
  },
  {
   "cell_type": "markdown",
   "metadata": {},
   "source": [
    "#### **Relacion entre limpieza y precio**"
   ]
  },
  {
   "cell_type": "code",
   "execution_count": null,
   "metadata": {},
   "outputs": [],
   "source": [
    "sns.regplot(data=data_apart,x='Precio',y='Limpieza')"
   ]
  },
  {
   "cell_type": "code",
   "execution_count": null,
   "metadata": {},
   "outputs": [],
   "source": [
    "sns."
   ]
  },
  {
   "cell_type": "markdown",
   "metadata": {},
   "source": [
    "# **Clustering apartamentos**"
   ]
  },
  {
   "cell_type": "code",
   "execution_count": null,
   "metadata": {},
   "outputs": [],
   "source": [
    "data_apart.columns"
   ]
  },
  {
   "cell_type": "code",
   "execution_count": null,
   "metadata": {},
   "outputs": [],
   "source": [
    "columnas_innecesarias_cluster=['ID','Titulo','Descripcion Simple','URL','url_img','Localizacion']\n",
    "data_cluster=data_apart.drop(columnas_innecesarias_cluster,axis=1)\n"
   ]
  },
  {
   "cell_type": "code",
   "execution_count": null,
   "metadata": {},
   "outputs": [],
   "source": [
    "data_cluster"
   ]
  },
  {
   "cell_type": "code",
   "execution_count": null,
   "metadata": {},
   "outputs": [],
   "source": [
    "imputer = SimpleImputer(strategy='mean')\n",
    "imputer_cat = SimpleImputer(strategy='most_frequent')\n",
    "cols_cat=['Wifi','Mascotas','Piscina','Parking']\n",
    "not_cat=[col for col in data_cluster.columns if col not in cols_cat and col not in columnas_innecesarias_cluster]\n",
    "data_cluster[cols_cat]=imputer_cat.fit_transform(data_cluster[cols_cat])\n",
    "data_cluster[not_cat]=imputer.fit_transform(data_cluster[not_cat])"
   ]
  },
  {
   "cell_type": "code",
   "execution_count": null,
   "metadata": {},
   "outputs": [],
   "source": [
    "data_apart.to_csv('../../Dataset_Apart/Cleaned/DatasetAirbnb_Cleaned_v1.csv',index=False)"
   ]
  },
  {
   "cell_type": "code",
   "execution_count": null,
   "metadata": {},
   "outputs": [],
   "source": [
    "imputer = SimpleImputer(strategy='mean')\n",
    "imputer_cat = SimpleImputer(strategy='most_frequent')\n",
    "cols_cat=['Wifi','Mascotas','Piscina','Parking']\n",
    "not_cat=[col for col in data_cluster.columns if col not in cols_cat]\n",
    "data_cluster[cols_cat]=imputer_cat.fit_transform(data_cluster[cols_cat])\n",
    "data_cluster[not_cat]=imputer.fit_transform(data_cluster[not_cat])"
   ]
  },
  {
   "cell_type": "code",
   "execution_count": null,
   "metadata": {},
   "outputs": [],
   "source": [
    "data_cluster.isna().sum()"
   ]
  },
  {
   "cell_type": "markdown",
   "metadata": {},
   "source": [
    "## **Método del codo**"
   ]
  },
  {
   "cell_type": "code",
   "execution_count": null,
   "metadata": {},
   "outputs": [],
   "source": [
    "from sklearn.cluster import KMeans\n",
    "Coste = []\n",
    "krange = np.arange(2, 11) #krange = 2,3,4,5,6,7,8,9,10\n",
    "# bucle para el cálculo de la función de coste (SSE) desde k= 2 hasta k= 10\n",
    "for num in krange:\n",
    "    kmeans = KMeans(n_clusters=num, n_init='auto', random_state=10, max_iter=100).fit(data_cluster)\n",
    "    print(\n",
    "        \"Para k =\",\n",
    "        num,\n",
    "        ', el coste (SSE)=',\n",
    "        kmeans.inertia_,\n",
    "    )\n",
    "    Coste.append(kmeans.inertia_)\n",
    "\n",
    "fig, ax = plt.subplots()\n",
    "ax.set_title('Método del codo', fontsize = 16)\n",
    "ax.set_ylabel(\"Coste (SSE)\",fontsize=14)\n",
    "ax.set_xlabel(\"Número de clústeres (k)\", fontsize=14)\n",
    "ax.plot(krange,Coste)\n",
    "plt.show()"
   ]
  },
  {
   "cell_type": "code",
   "execution_count": null,
   "metadata": {},
   "outputs": [],
   "source": [
    "from sklearn.metrics import silhouette_score\n",
    "from sklearn.metrics import calinski_harabasz_score\n",
    "\n",
    "for k in [3,4,5,6,7,8]:\n",
    "    kmeans = KMeans(n_clusters=k, n_init= 'auto', random_state=10, max_iter=3000)\n",
    "    Y_pred=kmeans.fit_predict(data_cluster) # Vector de asignación de etiquetas predichas para cada elemento\n",
    "    data_cluster['id_cluster']=kmeans.labels_\n",
    "    silhouette_avg = silhouette_score(data_cluster.drop('id_cluster',axis=1),data_cluster['id_cluster'])\n",
    "    cal=calinski_harabasz_score(data_cluster.drop('id_cluster',axis=1),data_cluster['id_cluster'])\n",
    "    print('\\nPara un Nº de clusters: ',k ,\n",
    "          '\\nS: ',silhouette_avg,\n",
    "          '\\nCH: ',cal)\n",
    "    print('-'*50)"
   ]
  },
  {
   "cell_type": "markdown",
   "metadata": {},
   "source": [
    "El número óptimo de clusters son 3."
   ]
  },
  {
   "cell_type": "code",
   "execution_count": null,
   "metadata": {},
   "outputs": [],
   "source": [
    "k_val=8\n",
    "kmeans = KMeans(n_clusters=k_val, n_init= 'auto', random_state=10, max_iter=3000)\n",
    "Y_pred=kmeans.fit_predict(data_cluster) # Vector de asignación de etiquetas predichas para cada elemento\n",
    "kmeans.labels_\n",
    "data_cluster['id_cluster']=kmeans.labels_\n",
    "#Boxplot con el comportamiento de los clusters para cada variable (Facilitar la caracterización)\n",
    "for col in data_cluster.columns:\n",
    "    sns.boxplot(data_cluster,x=col,hue='id_cluster')\n",
    "    plt.show()"
   ]
  },
  {
   "cell_type": "code",
   "execution_count": null,
   "metadata": {},
   "outputs": [],
   "source": [
    "data_cluster['id_cluster'].value_counts()"
   ]
  },
  {
   "cell_type": "markdown",
   "metadata": {},
   "source": [
    "## **Clustering jerárquico**\n",
    "---"
   ]
  },
  {
   "cell_type": "code",
   "execution_count": null,
   "metadata": {},
   "outputs": [],
   "source": [
    "from scipy.cluster.hierarchy import linkage, fcluster, dendrogram\n",
    "\n",
    "def hierarchical_clustering(X, num_clusters):\n",
    "    Z = linkage(X, method='ward')\n",
    "    clusters = fcluster(Z, t=num_clusters, criterion='maxclust')\n",
    "    return clusters\n",
    "data_cluster.drop('id_cluster',axis=1,inplace=True)\n",
    "num_clusters = 3\n",
    "clusters = hierarchical_clustering(data_cluster, num_clusters=num_clusters)\n",
    "\n",
    "# Visualización del dendrograma\n",
    "plt.figure()\n",
    "dendrogram(linkage(data_cluster, method='ward'))\n",
    "plt.show()\n"
   ]
  },
  {
   "cell_type": "code",
   "execution_count": null,
   "metadata": {},
   "outputs": [],
   "source": [
    "from sklearn.decomposition import PCA\n",
    "pca = PCA(n_components=3)\n",
    "X_pca = pca.fit_transform(data_cluster)\n",
    "\n",
    "# Visualización de los datos originales y los datos transformados\n",
    "plt.figure(figsize=(8, 4))\n",
    "\n",
    "# Datos transformados por PCA\n",
    "plt.subplot(1, 2, 2)\n",
    "plt.scatter(X_pca[:, 0], X_pca[:, 1], c='red', edgecolor='k', s=50)\n",
    "plt.title(\"Datos transformados por PCA\")\n",
    "plt.xlabel(\"Componente principal 1\")\n",
    "plt.ylabel(\"Componente principal 2\")\n",
    "\n",
    "plt.tight_layout()\n",
    "plt.show()"
   ]
  },
  {
   "cell_type": "code",
   "execution_count": null,
   "metadata": {},
   "outputs": [],
   "source": [
    "plt.subplot(1, 2, 2)\n",
    "plt.scatter(X_pca[:, 0], X_pca[:, 2], c='red', edgecolor='k', s=50)\n",
    "plt.title(\"Datos transformados por PCA\")\n",
    "plt.xlabel(\"Componente principal 1\")\n",
    "plt.ylabel(\"Componente principal 3\")\n",
    "\n",
    "plt.tight_layout()\n",
    "plt.show()"
   ]
  },
  {
   "cell_type": "code",
   "execution_count": null,
   "metadata": {},
   "outputs": [],
   "source": [
    "plt.subplot(1, 2, 2)\n",
    "plt.scatter(X_pca[:, 1], X_pca[:, 2], c='red', edgecolor='k', s=50)\n",
    "plt.title(\"Datos transformados por PCA\")\n",
    "plt.xlabel(\"Componente principal 2\")\n",
    "plt.ylabel(\"Componente principal 3\")\n",
    "\n",
    "plt.tight_layout()\n",
    "plt.show()"
   ]
  },
  {
   "cell_type": "code",
   "execution_count": null,
   "metadata": {},
   "outputs": [],
   "source": [
    "from sklearn.metrics import silhouette_score\n",
    "from sklearn.metrics import calinski_harabasz_score\n",
    "data_pca=pd.DataFrame(X_pca,columns=['PCA1','PCA2','PCA3'])\n",
    "for k in [2,3,4,5]:\n",
    "    kmeans = KMeans(n_clusters=k, n_init= 'auto', random_state=10, max_iter=3000)\n",
    "    Y_pred=kmeans.fit_predict(data_pca) # Vector de asignación de etiquetas predichas para cada elemento\n",
    "    data_pca['id_cluster']=kmeans.labels_\n",
    "    silhouette_avg = silhouette_score(data_pca.drop('id_cluster',axis=1),data_pca['id_cluster'])\n",
    "    cal=calinski_harabasz_score(data_pca.drop('id_cluster',axis=1),data_pca['id_cluster'])\n",
    "    print('\\nPara un Nº de clusters: ',k ,\n",
    "          '\\nS: ',silhouette_avg,\n",
    "          '\\nCH: ',cal)\n",
    "    print('-'*50)"
   ]
  },
  {
   "cell_type": "code",
   "execution_count": null,
   "metadata": {},
   "outputs": [],
   "source": [
    "k_val=3\n",
    "kmeans = KMeans(n_clusters=k_val, n_init= 'auto', random_state=10, max_iter=3000)\n",
    "Y_pred=kmeans.fit_predict(data_pca) # Vector de asignación de etiquetas predichas para cada elemento\n",
    "kmeans.labels_\n",
    "data_pca['id_cluster']=kmeans.labels_\n",
    "#Boxplot con el comportamiento de los clusters para cada variable (Facilitar la caracterización)\n",
    "for col in data_pca.columns:\n",
    "    sns.boxplot(data_pca,x=col,hue='id_cluster')\n",
    "    plt.show()"
   ]
  },
  {
   "cell_type": "code",
   "execution_count": null,
   "metadata": {},
   "outputs": [],
   "source": [
    "from sklearn.cluster import DBSCAN\n",
    "\n",
    "# Crear el modelo DBSCAN\n",
    "dbscan = DBSCAN(eps=0.1, min_samples=20)\n",
    "\n",
    "# Ajustar el modelo a los datos\n",
    "dbscan.fit(data_cluster)\n",
    "\n",
    "# Obtener las etiquetas de los clusters asignados a cada muestra\n",
    "labels = dbscan.labels_\n",
    "\n",
    "# Obtener el número de clusters encontrados (-1 indica muestras ruido)\n",
    "n_clusters = len(set(labels)) - (1 if -1 in labels else 0)\n",
    "print(\"Número de clusters encontrados:\", n_clusters)\n",
    "\n",
    "# Obtener las muestras asignadas a cada cluster\n",
    "clusters = {}\n",
    "for i, label in enumerate(labels):\n",
    "    if label not in clusters:\n",
    "        clusters[label] = []\n",
    "    clusters[label].append(i)\n",
    "\n",
    "# Imprimir las muestras asignadas a cada cluster\n",
    "for label, samples in clusters.items():\n",
    "    print(\"Cluster\", label)\n",
    "    print(\"Muestras:\", samples)\n",
    "    print()"
   ]
  },
  {
   "cell_type": "code",
   "execution_count": null,
   "metadata": {},
   "outputs": [],
   "source": []
  }
 ],
 "metadata": {
  "kernelspec": {
   "display_name": "entorno_prueba",
   "language": "python",
   "name": "python3"
  },
  "language_info": {
   "codemirror_mode": {
    "name": "ipython",
    "version": 3
   },
   "file_extension": ".py",
   "mimetype": "text/x-python",
   "name": "python",
   "nbconvert_exporter": "python",
   "pygments_lexer": "ipython3",
   "version": "3.12.4"
  }
 },
 "nbformat": 4,
 "nbformat_minor": 2
}
